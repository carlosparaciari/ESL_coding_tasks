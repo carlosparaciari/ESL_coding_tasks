{
 "cells": [
  {
   "cell_type": "code",
   "execution_count": 49,
   "metadata": {},
   "outputs": [],
   "source": [
    "import numpy as np\n",
    "import numpy.linalg as nla\n",
    "import numpy.random as nrd"
   ]
  },
  {
   "cell_type": "markdown",
   "metadata": {},
   "source": [
    "# Exercise 14.22\n",
    "\n",
    "Write a program to compute the PageRank solutions by the power method using formulation (14.107).\n",
    "Apply it to the network with the following connectivity,"
   ]
  },
  {
   "cell_type": "code",
   "execution_count": 33,
   "metadata": {},
   "outputs": [
    {
     "name": "stdout",
     "output_type": "stream",
     "text": [
      "[[0. 0. 1. 1. 0. 0.]\n",
      " [1. 0. 0. 0. 0. 1.]\n",
      " [1. 1. 0. 1. 1. 0.]\n",
      " [0. 0. 0. 0. 0. 0.]\n",
      " [0. 0. 0. 0. 0. 1.]\n",
      " [0. 0. 0. 0. 0. 0.]]\n"
     ]
    }
   ],
   "source": [
    "# Network size\n",
    "N = 6\n",
    "\n",
    "# Connectivity\n",
    "L = np.zeros((N,N))\n",
    "\n",
    "# page 3 and 4 link to page 1\n",
    "L[0,2] = 1\n",
    "L[0,3] = 1\n",
    "\n",
    "# page 1 and 6 link to page 2\n",
    "L[1,0] = 1\n",
    "L[1,5] = 1\n",
    "\n",
    "# page 1, 2, 4, and 5 link to page 3\n",
    "L[2,0] = 1\n",
    "L[2,1] = 1\n",
    "L[2,3] = 1\n",
    "L[2,4] = 1\n",
    "\n",
    "# page 6 links to page 5\n",
    "L[4,5] = 1\n",
    "\n",
    "print(L)"
   ]
  },
  {
   "cell_type": "markdown",
   "metadata": {},
   "source": [
    "# Solution\n",
    "\n",
    "We construct the A matrix as described in the main text (the transition probability matrix for the random walk),"
   ]
  },
  {
   "cell_type": "code",
   "execution_count": 10,
   "metadata": {},
   "outputs": [],
   "source": [
    "# First, let's compute the degree of connectivity of each page (to how many pages they link)\n",
    "C = np.sum(L,axis=0)\n",
    "D_c = np.diag(1/C)\n",
    "\n",
    "# Then, the A matrix is defined as,\n",
    "E = np.ones((N,N))\n",
    "d = 0.85\n",
    "\n",
    "A = (1-d)/N * E + d * L @ D_c"
   ]
  },
  {
   "cell_type": "markdown",
   "metadata": {},
   "source": [
    "Here we define the function for converging to a stationary solution (just walk your random walk),"
   ]
  },
  {
   "cell_type": "code",
   "execution_count": 99,
   "metadata": {},
   "outputs": [],
   "source": [
    "def find_stationary_solution(A,max_iter=100,eps=1e-8):\n",
    "    \n",
    "    N,_ = A.shape\n",
    "    \n",
    "    e = np.ones(N)\n",
    "    p0 = nrd.rand(N)\n",
    "    \n",
    "    for _ in range(max_iter):\n",
    "        \n",
    "        p = A @ p0\n",
    "        p = N * p / (e @ p)\n",
    "        \n",
    "        if np.sum(abs(p-p0)) < eps:\n",
    "            break\n",
    "            \n",
    "        p0 = p\n",
    "\n",
    "    return p"
   ]
  },
  {
   "cell_type": "markdown",
   "metadata": {},
   "source": [
    "We can now obtain the stationary solution,"
   ]
  },
  {
   "cell_type": "code",
   "execution_count": 103,
   "metadata": {},
   "outputs": [
    {
     "name": "stdout",
     "output_type": "stream",
     "text": [
      "stationary solution = [2.12340305 1.1161963  2.24665065 0.15       0.21375    0.15      ]\n"
     ]
    }
   ],
   "source": [
    "stationary = find_stationary_solution(A)\n",
    "\n",
    "print('stationary solution = {}'.format(stationary))"
   ]
  },
  {
   "cell_type": "markdown",
   "metadata": {},
   "source": [
    "The stationary solution is indeed eigenvector of A wrt 1,"
   ]
  },
  {
   "cell_type": "code",
   "execution_count": 105,
   "metadata": {},
   "outputs": [
    {
     "data": {
      "text/plain": [
       "array([ True,  True,  True,  True,  True,  True])"
      ]
     },
     "execution_count": 105,
     "metadata": {},
     "output_type": "execute_result"
    }
   ],
   "source": [
    "np.isclose(A @ stationary, stationary)"
   ]
  },
  {
   "cell_type": "code",
   "execution_count": null,
   "metadata": {},
   "outputs": [],
   "source": []
  }
 ],
 "metadata": {
  "kernelspec": {
   "display_name": "Python 3",
   "language": "python",
   "name": "python3"
  },
  "language_info": {
   "codemirror_mode": {
    "name": "ipython",
    "version": 3
   },
   "file_extension": ".py",
   "mimetype": "text/x-python",
   "name": "python",
   "nbconvert_exporter": "python",
   "pygments_lexer": "ipython3",
   "version": "3.7.9"
  }
 },
 "nbformat": 4,
 "nbformat_minor": 4
}

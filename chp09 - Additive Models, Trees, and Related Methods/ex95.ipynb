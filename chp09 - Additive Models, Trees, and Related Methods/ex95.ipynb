{
 "cells": [
  {
   "cell_type": "code",
   "execution_count": 2,
   "metadata": {},
   "outputs": [],
   "source": [
    "import numpy as np\n",
    "import numpy.random as nrd\n",
    "import matplotlib.pyplot as plt\n",
    "from sklearn import tree\n",
    "from collections import defaultdict"
   ]
  },
  {
   "cell_type": "markdown",
   "metadata": {},
   "source": [
    "# Exercise 9.5\n",
    "\n",
    "Degrees of freedom of a tree. Given data yi with mean f(xi) and\n",
    "variance σ2, and a fitting operation $y \\rightarrow \\hat{y}$, let’s define the degrees of\n",
    "freedom of a fit by $\\sum_i cov(yi, \\hat{y}i)/σ2$.\n",
    "\n",
    "Consider a fit $\\hat{y}$ estimated by a regression tree, fit to a set of predictors X1,X2, . . . ,Xp.\n",
    "\n",
    " - Generate 100 observations with predictors X1,X2, . . . ,X10 as independent standard Gaussian variates and fix these values.\n",
    "\n",
    " - Generate response values also as standard Gaussian (σ2 = 1), independent of the predictors. Fit regression trees to the data of fixed size 1,5 and 10 terminal nodes and hence estimate the degrees of freedom of each fit. (Do ten simulations of the response and average the results, to get a good estimate of degrees of freedom.)\n",
    " \n",
    "# Solution"
   ]
  },
  {
   "cell_type": "code",
   "execution_count": 3,
   "metadata": {},
   "outputs": [
    {
     "data": {
      "image/png": "[encoded data removed]",
      "text/plain": [
       "<Figure size 432x288 with 1 Axes>"
      ]
     },
     "metadata": {
      "needs_background": "light"
     },
     "output_type": "display_data"
    }
   ],
   "source": [
    "samples = 100\n",
    "features = 10\n",
    "simulations = 10\n",
    "leafs = [2,3,4,5,6,7,8,9,10]\n",
    "\n",
    "X = nrd.normal(size=(samples,features))\n",
    "\n",
    "covs = defaultdict(list)\n",
    "\n",
    "# Fit regression tree with different terminal nodes\n",
    "for _ in range(simulations):\n",
    "    y = nrd.normal(size=samples)\n",
    "    for leaf in leafs:\n",
    "        reg = tree.DecisionTreeRegressor(max_leaf_nodes=leaf)\n",
    "        reg = reg.fit(X,y)\n",
    "        y_exp = reg.predict(X)\n",
    "\n",
    "        cov = (y - np.mean(y)) @ (y_exp - np.mean(y_exp))\n",
    "        covs[leaf].append(cov)\n",
    "        \n",
    "dofs = [np.mean(covs[leaf]) for leaf in leafs]\n",
    "\n",
    "plt.plot(leafs,dofs)\n",
    "plt.xlabel('# of terminal leafs')\n",
    "plt.ylabel('degrees of freedom')\n",
    "plt.show()"
   ]
  },
  {
   "cell_type": "markdown",
   "metadata": {},
   "source": [
    "The dofs of a tree seem to be linear in the # of terminal nodes."
   ]
  },
  {
   "cell_type": "code",
   "execution_count": null,
   "metadata": {},
   "outputs": [],
   "source": []
  }
 ],
 "metadata": {
  "kernelspec": {
   "display_name": "Python 3",
   "language": "python",
   "name": "python3"
  },
  "language_info": {
   "codemirror_mode": {
    "name": "ipython",
    "version": 3
   },
   "file_extension": ".py",
   "mimetype": "text/x-python",
   "name": "python",
   "nbconvert_exporter": "python",
   "pygments_lexer": "ipython3",
   "version": "3.7.9"
  }
 },
 "nbformat": 4,
 "nbformat_minor": 4
}

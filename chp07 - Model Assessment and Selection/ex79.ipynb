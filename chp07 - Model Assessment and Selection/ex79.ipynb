{
 "cells": [
  {
   "cell_type": "code",
   "execution_count": 1,
   "metadata": {},
   "outputs": [],
   "source": [
    "import pandas as pd\n",
    "import numpy as np\n",
    "import numpy.linalg as nla\n",
    "import numpy.random as nrd\n",
    "import matplotlib.pyplot as plt\n",
    "from itertools import combinations\n",
    "from collections import defaultdict"
   ]
  },
  {
   "cell_type": "markdown",
   "metadata": {},
   "source": [
    "# Exercise 7.9\n",
    "\n",
    "For the prostate data of Chapter 3, carry out a best-subset linear\n",
    "regression analysis, as in Table 3.3 (third column from left). Compute the\n",
    "AIC, BIC, five- and tenfold cross-validation, and bootstrap .632 estimates\n",
    "of prediction error. Discuss the results.\n",
    "\n",
    "# Solution\n",
    "\n",
    "Let's introduce some useful functions for the notebook,"
   ]
  },
  {
   "cell_type": "code",
   "execution_count": 2,
   "metadata": {},
   "outputs": [],
   "source": [
    "def standardise(X,X_test):\n",
    "    mu = np.mean(X,axis=0)\n",
    "    sig = np.std(X,axis=0)\n",
    "    \n",
    "    return (X-mu)/sig, (X_test-mu)/sig\n",
    "\n",
    "def lin_reg(X,y):\n",
    "    return nla.pinv(X.T @ X) @ X.T @ y\n",
    "\n",
    "def mean_squares_err(X,y,beta):\n",
    "    return np.mean((y - X @ beta)**2)\n",
    "\n",
    "def best_subset_selection(X,y,k):\n",
    "    \n",
    "    N,p = X.shape\n",
    "    min_err = np.inf\n",
    "    err_list = []\n",
    "    \n",
    "    for exclude in combinations(range(1,p),k):\n",
    "        X_bs = np.delete(X,exclude,axis=1)\n",
    "        beta = lin_reg(X_bs,y)\n",
    "        err = mean_squares_err(X_bs,y,beta)\n",
    "        if err < min_err:\n",
    "            min_err = err\n",
    "            opt_exclusion = exclude\n",
    "            opt_beta = beta\n",
    "        err_list.append(err)\n",
    "            \n",
    "    return (opt_beta,opt_exclusion,min_err,err_list)\n",
    "\n",
    "def cross_validation_split(X,y,n):\n",
    "    N,_ = X.shape\n",
    "    delta = N//n\n",
    "    \n",
    "    train_set = []\n",
    "    cv_set = []\n",
    "    \n",
    "    for i in range(0,n):\n",
    "        X_train = np.vstack((X[:i*delta],X[(i+1)*delta:]))\n",
    "        y_train = np.hstack((y[:i*delta],y[(i+1)*delta:]))\n",
    "        train_set.append((X_train,y_train))\n",
    "        \n",
    "        X_cv = X[i*delta:(i+1)*delta]\n",
    "        y_cv = y[i*delta:(i+1)*delta]\n",
    "        cv_set.append((X_cv,y_cv))\n",
    "        \n",
    "    return (train_set,cv_set)\n",
    "\n",
    "def select_bootstrap_set(X,y):\n",
    "    \n",
    "    N,_ = X.shape\n",
    "    indices_in = nrd.choice(N, size=N, replace=True)\n",
    "    indices_out= [i for i in range(N) if not i in set(indices_in)]\n",
    "    \n",
    "    X_bs = X[indices_in]\n",
    "    y_bs = y[indices_in]\n",
    "    \n",
    "    return X_bs, y_bs, indices_out"
   ]
  },
  {
   "cell_type": "code",
   "execution_count": 3,
   "metadata": {},
   "outputs": [
    {
     "data": {
      "text/html": [
       "<div>\n",
       "<style scoped>\n",
       "    .dataframe tbody tr th:only-of-type {\n",
       "        vertical-align: middle;\n",
       "    }\n",
       "\n",
       "    .dataframe tbody tr th {\n",
       "        vertical-align: top;\n",
       "    }\n",
       "\n",
       "    .dataframe thead th {\n",
       "        text-align: right;\n",
       "    }\n",
       "</style>\n",
       "<table border=\"1\" class=\"dataframe\">\n",
       "  <thead>\n",
       "    <tr style=\"text-align: right;\">\n",
       "      <th></th>\n",
       "      <th>lcavol</th>\n",
       "      <th>lweight</th>\n",
       "      <th>age</th>\n",
       "      <th>lbph</th>\n",
       "      <th>svi</th>\n",
       "      <th>lcp</th>\n",
       "      <th>gleason</th>\n",
       "      <th>pgg45</th>\n",
       "      <th>lpsa</th>\n",
       "      <th>train</th>\n",
       "    </tr>\n",
       "  </thead>\n",
       "  <tbody>\n",
       "    <tr>\n",
       "      <th>93</th>\n",
       "      <td>2.830268</td>\n",
       "      <td>3.876396</td>\n",
       "      <td>68</td>\n",
       "      <td>-1.386294</td>\n",
       "      <td>1</td>\n",
       "      <td>1.321756</td>\n",
       "      <td>7</td>\n",
       "      <td>60</td>\n",
       "      <td>4.385147</td>\n",
       "      <td>T</td>\n",
       "    </tr>\n",
       "    <tr>\n",
       "      <th>94</th>\n",
       "      <td>3.821004</td>\n",
       "      <td>3.896909</td>\n",
       "      <td>44</td>\n",
       "      <td>-1.386294</td>\n",
       "      <td>1</td>\n",
       "      <td>2.169054</td>\n",
       "      <td>7</td>\n",
       "      <td>40</td>\n",
       "      <td>4.684443</td>\n",
       "      <td>T</td>\n",
       "    </tr>\n",
       "    <tr>\n",
       "      <th>95</th>\n",
       "      <td>2.907447</td>\n",
       "      <td>3.396185</td>\n",
       "      <td>52</td>\n",
       "      <td>-1.386294</td>\n",
       "      <td>1</td>\n",
       "      <td>2.463853</td>\n",
       "      <td>7</td>\n",
       "      <td>10</td>\n",
       "      <td>5.143124</td>\n",
       "      <td>F</td>\n",
       "    </tr>\n",
       "    <tr>\n",
       "      <th>96</th>\n",
       "      <td>2.882564</td>\n",
       "      <td>3.773910</td>\n",
       "      <td>68</td>\n",
       "      <td>1.558145</td>\n",
       "      <td>1</td>\n",
       "      <td>1.558145</td>\n",
       "      <td>7</td>\n",
       "      <td>80</td>\n",
       "      <td>5.477509</td>\n",
       "      <td>T</td>\n",
       "    </tr>\n",
       "    <tr>\n",
       "      <th>97</th>\n",
       "      <td>3.471966</td>\n",
       "      <td>3.974998</td>\n",
       "      <td>68</td>\n",
       "      <td>0.438255</td>\n",
       "      <td>1</td>\n",
       "      <td>2.904165</td>\n",
       "      <td>7</td>\n",
       "      <td>20</td>\n",
       "      <td>5.582932</td>\n",
       "      <td>F</td>\n",
       "    </tr>\n",
       "  </tbody>\n",
       "</table>\n",
       "</div>"
      ],
      "text/plain": [
       "      lcavol   lweight  age      lbph  svi       lcp  gleason  pgg45  \\\n",
       "93  2.830268  3.876396   68 -1.386294    1  1.321756        7     60   \n",
       "94  3.821004  3.896909   44 -1.386294    1  2.169054        7     40   \n",
       "95  2.907447  3.396185   52 -1.386294    1  2.463853        7     10   \n",
       "96  2.882564  3.773910   68  1.558145    1  1.558145        7     80   \n",
       "97  3.471966  3.974998   68  0.438255    1  2.904165        7     20   \n",
       "\n",
       "        lpsa train  \n",
       "93  4.385147     T  \n",
       "94  4.684443     T  \n",
       "95  5.143124     F  \n",
       "96  5.477509     T  \n",
       "97  5.582932     F  "
      ]
     },
     "execution_count": 3,
     "metadata": {},
     "output_type": "execute_result"
    }
   ],
   "source": [
    "data_url = 'https://web.stanford.edu/~hastie/ElemStatLearn/datasets/prostate.data'\n",
    "df_prostate = pd.read_csv(data_url,sep='\\t',index_col=0)\n",
    "df_prostate.tail()"
   ]
  },
  {
   "cell_type": "markdown",
   "metadata": {},
   "source": [
    "Here we shuffle and standardize the data"
   ]
  },
  {
   "cell_type": "code",
   "execution_count": 4,
   "metadata": {},
   "outputs": [],
   "source": [
    "df_prostate = df_prostate.sample(frac=1)\n",
    "\n",
    "# Divide set into training and test\n",
    "train_set = df_prostate[df_prostate['train']=='T']\n",
    "train_set.pop('train')\n",
    "test_set = df_prostate[df_prostate['train']=='F']\n",
    "test_set.pop('train')\n",
    "\n",
    "# Training and test response\n",
    "y_train = train_set.pop('lpsa').to_numpy()\n",
    "y_test = test_set.pop('lpsa').to_numpy()\n",
    "\n",
    "# Standardized inputs\n",
    "X_train, X_test = standardise(train_set.to_numpy(),test_set.to_numpy())\n",
    "\n",
    "N,p = X_train.shape\n",
    "M,_ = X_test.shape\n",
    "\n",
    "X_train = np.hstack((np.ones((N,1)),X_train))\n",
    "X_test = np.hstack((np.ones((M,1)),X_test))"
   ]
  },
  {
   "cell_type": "markdown",
   "metadata": {},
   "source": [
    "### Best-Subset Selection"
   ]
  },
  {
   "cell_type": "code",
   "execution_count": 5,
   "metadata": {},
   "outputs": [],
   "source": [
    "train_error_bs = {}\n",
    "min_err_list = []\n",
    "err_test = []\n",
    "\n",
    "for k in range(1,p+1):\n",
    "    beta,excl,min_err,err_list = best_subset_selection(X_train,y_train,k)\n",
    "    train_error_bs[k] = err_list\n",
    "    min_err_list.append(min_err)\n",
    "    X_test_bs = np.delete(X_test,excl,axis=1)\n",
    "    err_test.append(mean_squares_err(X_test_bs,y_test,beta))\n",
    "    \n",
    "min_err_list.reverse()\n",
    "err_test.reverse()"
   ]
  },
  {
   "cell_type": "markdown",
   "metadata": {},
   "source": [
    "The error curves for best subset selection (training and test)"
   ]
  },
  {
   "cell_type": "code",
   "execution_count": 6,
   "metadata": {},
   "outputs": [
    {
     "data": {
      "image/png": "[encoded data removed]",
      "text/plain": [
       "<Figure size 432x288 with 1 Axes>"
      ]
     },
     "metadata": {
      "needs_background": "light"
     },
     "output_type": "display_data"
    }
   ],
   "source": [
    "for k in range(0,p):\n",
    "    y_coord = train_error_bs[k+1]\n",
    "    x_coord = np.full(len(y_coord),p-k) \n",
    "    plt.scatter(x_coord,y_coord,marker='x',c='grey')\n",
    "\n",
    "dofs = list(range(1,p+1))\n",
    "plt.plot(dofs,min_err_list,'o-',label='error train (opt BS)')\n",
    "plt.plot(dofs,err_test,'o-',label='error test')\n",
    "plt.xlabel('degrees of freedom')\n",
    "plt.ylabel('mean square error')\n",
    "plt.ylim((0,1.5))\n",
    "plt.legend()\n",
    "plt.show()"
   ]
  },
  {
   "cell_type": "markdown",
   "metadata": {},
   "source": [
    "### AIC and BIC"
   ]
  },
  {
   "cell_type": "code",
   "execution_count": 7,
   "metadata": {},
   "outputs": [],
   "source": [
    "# The sigma can be approx as the error of a low-bias (high variance) model (high dofs)\n",
    "sig_low_bias = min_err_list[-1]\n",
    "\n",
    "AIC = []\n",
    "BIC = []\n",
    "\n",
    "for dof in dofs:\n",
    "    AIC.append(min_err_list[dof-1] + 2*sig_low_bias*dof/N)\n",
    "    BIC.append(min_err_list[dof-1] + 2*sig_low_bias*np.log(N)*dof/N)"
   ]
  },
  {
   "cell_type": "markdown",
   "metadata": {},
   "source": [
    "### 10-Fold Cross Validation"
   ]
  },
  {
   "cell_type": "code",
   "execution_count": 8,
   "metadata": {},
   "outputs": [],
   "source": [
    "n = 10\n",
    "\n",
    "cv_error = defaultdict(list)\n",
    "train_set,cv_set = cross_validation_split(X_train,y_train,n)\n",
    "\n",
    "for i in range(n):\n",
    "    Xt,yt = train_set[i]\n",
    "    Xcv,ycv = cv_set[i]   \n",
    "    for k in range(1,p+1):\n",
    "        beta,excl,_,_ = best_subset_selection(Xt,yt,k)\n",
    "        Xcv_bs = np.delete(Xcv,excl,axis=1)\n",
    "        cv_error[p+1-k].append(mean_squares_err(Xcv_bs,ycv,beta))\n",
    "\n",
    "cv_mean = []\n",
    "cv_sig = []\n",
    "for i in range(1,p+1):\n",
    "    cv_mean.append(np.mean(cv_error[i]))\n",
    "    cv_sig.append(np.std(cv_error[i])/np.sqrt(n))"
   ]
  },
  {
   "cell_type": "markdown",
   "metadata": {},
   "source": [
    "### Bootstrap\n",
    "\n",
    "Here we compute $\\hat{Err}^{(1)}$ as per Eq. (7.56) - Notice that for each $b$ we compute the average error over the indices that have not been included, instead of following procedure in the text, as we can do it more efficiently."
   ]
  },
  {
   "cell_type": "code",
   "execution_count": 9,
   "metadata": {},
   "outputs": [],
   "source": [
    "B = 100 # Number of subsets for bootstrapping\n",
    "\n",
    "bs_error = defaultdict(list)\n",
    "\n",
    "for b in range(B):\n",
    "    \n",
    "    X_bs,y_bs,spare_indices = select_bootstrap_set(X_train,y_train)\n",
    "    X_cnt = X_train[spare_indices]\n",
    "    y_cnt = y_train[spare_indices]\n",
    "    \n",
    "    for k in range(1,p+1):\n",
    "        beta,excl,_,_ = best_subset_selection(X_bs,y_bs,k)\n",
    "        X_cnt_bs = np.delete(X_cnt,excl,axis=1)\n",
    "        bs_error[p+1-k].append(mean_squares_err(X_cnt_bs,y_cnt,beta))\n",
    "        \n",
    "bs_mean = []\n",
    "bs_sig = []\n",
    "for i in range(1,p+1):\n",
    "    bs_mean.append(np.mean(bs_error[i]))\n",
    "    bs_sig.append(np.std(bs_error[i])/np.sqrt(B))"
   ]
  },
  {
   "cell_type": "markdown",
   "metadata": {},
   "source": [
    "The $.632$ estimator is obtained using the training error computed for the full training set,"
   ]
  },
  {
   "cell_type": "code",
   "execution_count": 10,
   "metadata": {},
   "outputs": [],
   "source": [
    "err_list_632 = []\n",
    "bs_sig_632 = []\n",
    "for err,err_bs,sig_bs in zip(min_err_list,bs_mean,bs_sig):\n",
    "    err_list_632.append(0.368*err+0.632*err_bs)\n",
    "    bs_sig_632.append(0.632*sig_bs)"
   ]
  },
  {
   "cell_type": "markdown",
   "metadata": {},
   "source": [
    "### Predicted error with AIC, BIC, CV, and Bootstrap"
   ]
  },
  {
   "cell_type": "code",
   "execution_count": 11,
   "metadata": {},
   "outputs": [
    {
     "data": {
      "image/png": "[encoded data removed]",
      "text/plain": [
       "<Figure size 432x288 with 1 Axes>"
      ]
     },
     "metadata": {
      "needs_background": "light"
     },
     "output_type": "display_data"
    }
   ],
   "source": [
    "plt.plot(dofs,err_test,'o-',label='error test')\n",
    "plt.plot(dofs,AIC,'-',label='AIC')\n",
    "plt.plot(dofs,BIC,'-',label='BIC')\n",
    "plt.errorbar(dofs,cv_mean,yerr=cv_sig,label='{}-CV'.format(n))\n",
    "plt.errorbar(dofs,err_list_632,yerr=bs_sig_632,label='Bootstrapp 0.632')\n",
    "plt.xlabel('degrees of freedom')\n",
    "plt.ylabel('mean square error')\n",
    "plt.legend()\n",
    "plt.show()"
   ]
  }
 ],
 "metadata": {
  "kernelspec": {
   "display_name": "Python 3",
   "language": "python",
   "name": "python3"
  },
  "language_info": {
   "codemirror_mode": {
    "name": "ipython",
    "version": 3
   },
   "file_extension": ".py",
   "mimetype": "text/x-python",
   "name": "python",
   "nbconvert_exporter": "python",
   "pygments_lexer": "ipython3",
   "version": "3.7.9"
  }
 },
 "nbformat": 4,
 "nbformat_minor": 4
}

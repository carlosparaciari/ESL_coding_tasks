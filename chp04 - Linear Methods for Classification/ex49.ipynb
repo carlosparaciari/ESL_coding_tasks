{
 "cells": [
  {
   "cell_type": "code",
   "execution_count": 1,
   "metadata": {},
   "outputs": [],
   "source": [
    "import pandas as pd\n",
    "import numpy as np\n",
    "\n",
    "import numpy.linalg as nla\n",
    "import numpy.random as nrd\n",
    "\n",
    "import matplotlib.pyplot as plt\n",
    "from matplotlib import colors as mcolors"
   ]
  },
  {
   "cell_type": "markdown",
   "metadata": {},
   "source": [
    "# Exercise 4.9\n",
    "\n",
    "Write a computer program to perform a quadratic discriminant\n",
    "analysis by fitting a separate Gaussian model per class. Try it out on the\n",
    "vowel data, and compute the misclassification error for the test data. The\n",
    "data can be found in the book website www-stat.stanford.edu/ElemStatLearn.\n",
    "\n",
    "# Solution\n",
    "\n",
    "Some useful function for later,"
   ]
  },
  {
   "cell_type": "code",
   "execution_count": 2,
   "metadata": {},
   "outputs": [],
   "source": [
    "# Discriminant method\n",
    "def discriminant_function(x,mu,sig,prob):\n",
    "    return - np.log(nla.det(sig))/2 - np.diag((x - mu) @ nla.pinv(sig) @ (x - mu).T) + np.log(prob)\n",
    "\n",
    "def predict(X):\n",
    "    \n",
    "    N,_ = X.shape\n",
    "        \n",
    "    discriminant = np.empty((0,N))\n",
    "    for v in vowels:\n",
    "        posterior_dist = discriminant_function(X,moments[v],covariance[v],prior_prob[v])\n",
    "        discriminant = np.vstack((discriminant,posterior_dist))\n",
    "        \n",
    "    y_predict = np.argmax(discriminant,axis=0) + 1\n",
    "    \n",
    "    return y_predict\n",
    "\n",
    "def error(X,y):\n",
    "    \n",
    "    N = y.size\n",
    "    y_predict = predict(X)\n",
    "    \n",
    "    return np.mean(y!=y_predict)\n",
    "\n",
    "def sqrt_inv_mat(A):\n",
    "    m,_ = A.shape\n",
    "    eig_vals, eig_vecs = nla.eig(A)\n",
    "\n",
    "    A_sqrt_inv = np.zeros((m,m))\n",
    "\n",
    "    for i in range(m):\n",
    "        f_val = np.power(eig_vals[i],-1/2)\n",
    "        eig_vec = eig_vecs[:,i].reshape((m,1))\n",
    "        eig_vec @ eig_vec.T\n",
    "        A_sqrt_inv += f_val * eig_vec @ eig_vec.T\n",
    "\n",
    "    return A_sqrt_inv"
   ]
  },
  {
   "cell_type": "markdown",
   "metadata": {},
   "source": [
    "## Using Quadratic Discriminant Analysis on vowel dataset"
   ]
  },
  {
   "cell_type": "code",
   "execution_count": 3,
   "metadata": {},
   "outputs": [
    {
     "data": {
      "text/html": [
       "<div>\n",
       "<style scoped>\n",
       "    .dataframe tbody tr th:only-of-type {\n",
       "        vertical-align: middle;\n",
       "    }\n",
       "\n",
       "    .dataframe tbody tr th {\n",
       "        vertical-align: top;\n",
       "    }\n",
       "\n",
       "    .dataframe thead th {\n",
       "        text-align: right;\n",
       "    }\n",
       "</style>\n",
       "<table border=\"1\" class=\"dataframe\">\n",
       "  <thead>\n",
       "    <tr style=\"text-align: right;\">\n",
       "      <th></th>\n",
       "      <th>y</th>\n",
       "      <th>x.1</th>\n",
       "      <th>x.2</th>\n",
       "      <th>x.3</th>\n",
       "      <th>x.4</th>\n",
       "      <th>x.5</th>\n",
       "      <th>x.6</th>\n",
       "      <th>x.7</th>\n",
       "      <th>x.8</th>\n",
       "      <th>x.9</th>\n",
       "      <th>x.10</th>\n",
       "    </tr>\n",
       "  </thead>\n",
       "  <tbody>\n",
       "    <tr>\n",
       "      <th>523</th>\n",
       "      <td>7</td>\n",
       "      <td>-4.065</td>\n",
       "      <td>2.876</td>\n",
       "      <td>-0.856</td>\n",
       "      <td>-0.221</td>\n",
       "      <td>-0.533</td>\n",
       "      <td>0.232</td>\n",
       "      <td>0.855</td>\n",
       "      <td>0.633</td>\n",
       "      <td>-1.452</td>\n",
       "      <td>0.272</td>\n",
       "    </tr>\n",
       "    <tr>\n",
       "      <th>524</th>\n",
       "      <td>8</td>\n",
       "      <td>-4.513</td>\n",
       "      <td>4.265</td>\n",
       "      <td>-1.477</td>\n",
       "      <td>-1.090</td>\n",
       "      <td>0.215</td>\n",
       "      <td>0.829</td>\n",
       "      <td>0.342</td>\n",
       "      <td>0.693</td>\n",
       "      <td>-0.601</td>\n",
       "      <td>-0.056</td>\n",
       "    </tr>\n",
       "    <tr>\n",
       "      <th>525</th>\n",
       "      <td>9</td>\n",
       "      <td>-4.651</td>\n",
       "      <td>4.246</td>\n",
       "      <td>-0.823</td>\n",
       "      <td>-0.831</td>\n",
       "      <td>0.666</td>\n",
       "      <td>0.546</td>\n",
       "      <td>-0.300</td>\n",
       "      <td>0.094</td>\n",
       "      <td>-1.343</td>\n",
       "      <td>0.185</td>\n",
       "    </tr>\n",
       "    <tr>\n",
       "      <th>526</th>\n",
       "      <td>10</td>\n",
       "      <td>-5.034</td>\n",
       "      <td>4.993</td>\n",
       "      <td>-1.633</td>\n",
       "      <td>-0.285</td>\n",
       "      <td>0.398</td>\n",
       "      <td>0.181</td>\n",
       "      <td>-0.211</td>\n",
       "      <td>-0.508</td>\n",
       "      <td>-0.283</td>\n",
       "      <td>0.304</td>\n",
       "    </tr>\n",
       "    <tr>\n",
       "      <th>527</th>\n",
       "      <td>11</td>\n",
       "      <td>-4.261</td>\n",
       "      <td>1.827</td>\n",
       "      <td>-0.482</td>\n",
       "      <td>-0.194</td>\n",
       "      <td>0.731</td>\n",
       "      <td>0.354</td>\n",
       "      <td>-0.478</td>\n",
       "      <td>0.050</td>\n",
       "      <td>-0.112</td>\n",
       "      <td>0.321</td>\n",
       "    </tr>\n",
       "  </tbody>\n",
       "</table>\n",
       "</div>"
      ],
      "text/plain": [
       "      y    x.1    x.2    x.3    x.4    x.5    x.6    x.7    x.8    x.9   x.10\n",
       "523   7 -4.065  2.876 -0.856 -0.221 -0.533  0.232  0.855  0.633 -1.452  0.272\n",
       "524   8 -4.513  4.265 -1.477 -1.090  0.215  0.829  0.342  0.693 -0.601 -0.056\n",
       "525   9 -4.651  4.246 -0.823 -0.831  0.666  0.546 -0.300  0.094 -1.343  0.185\n",
       "526  10 -5.034  4.993 -1.633 -0.285  0.398  0.181 -0.211 -0.508 -0.283  0.304\n",
       "527  11 -4.261  1.827 -0.482 -0.194  0.731  0.354 -0.478  0.050 -0.112  0.321"
      ]
     },
     "execution_count": 3,
     "metadata": {},
     "output_type": "execute_result"
    }
   ],
   "source": [
    "url_link = 'https://web.stanford.edu/~hastie/ElemStatLearn/datasets/vowel.train'\n",
    "vowel_df = pd.read_csv(url_link)\n",
    "vowel_df.pop('row.names')\n",
    "\n",
    "url_link = 'https://web.stanford.edu/~hastie/ElemStatLearn/datasets/vowel.test'\n",
    "test_vowel_df = pd.read_csv(url_link)\n",
    "test_vowel_df.pop('row.names')\n",
    "\n",
    "vowel_df.tail()"
   ]
  },
  {
   "cell_type": "code",
   "execution_count": 4,
   "metadata": {},
   "outputs": [],
   "source": [
    "vowels = sorted(set(vowel_df['y']))\n",
    "\n",
    "y_train = vowel_df.pop('y').to_numpy()\n",
    "X_train = vowel_df.to_numpy()\n",
    "\n",
    "y_test = test_vowel_df.pop('y').to_numpy()\n",
    "X_test = test_vowel_df.to_numpy()"
   ]
  },
  {
   "cell_type": "markdown",
   "metadata": {},
   "source": [
    "Here we compute the prior probabilities, the moments, and the cov matrices of the inputs,"
   ]
  },
  {
   "cell_type": "code",
   "execution_count": 5,
   "metadata": {},
   "outputs": [],
   "source": [
    "N,p = X_train.shape\n",
    "\n",
    "prior_prob = {}\n",
    "moments = {}\n",
    "covariance = {}\n",
    "\n",
    "for v in vowels:\n",
    "    relevant_data = y_train == v\n",
    "    \n",
    "    Nv = np.sum(relevant_data)\n",
    "    X_v = X_train[relevant_data]\n",
    "    mu_v = np.mean(X_v,axis=0)\n",
    "    sig_v = (X_v - mu_v).T @ (X_v - mu_v)/(Nv-1)\n",
    "    \n",
    "    prior_prob[v] = Nv/N\n",
    "    moments[v] = mu_v\n",
    "    covariance[v] = sig_v"
   ]
  },
  {
   "cell_type": "markdown",
   "metadata": {},
   "source": [
    "Training and test errors,"
   ]
  },
  {
   "cell_type": "code",
   "execution_count": 6,
   "metadata": {},
   "outputs": [
    {
     "name": "stdout",
     "output_type": "stream",
     "text": [
      "Training error: 0.02\n",
      "Test error: 0.54\n"
     ]
    }
   ],
   "source": [
    "print(\"Training error: {:.2f}\".format(error(X_train,y_train)))\n",
    "print(\"Test error: {:.2f}\".format(error(X_test,y_test)))"
   ]
  },
  {
   "cell_type": "markdown",
   "metadata": {},
   "source": [
    "## Playing with visualisation of the data"
   ]
  },
  {
   "cell_type": "code",
   "execution_count": 7,
   "metadata": {},
   "outputs": [
    {
     "data": {
      "image/png": "[encoded data removed]",
      "text/plain": [
       "<Figure size 720x720 with 1 Axes>"
      ]
     },
     "metadata": {
      "needs_background": "light"
     },
     "output_type": "display_data"
    }
   ],
   "source": [
    "# Preparing the matrix M of moments\n",
    "M = []\n",
    "for v in vowels:\n",
    "    M.append(moments[v])\n",
    "M = np.array(M)\n",
    "\n",
    "# Preparing the pooled CM\n",
    "S = np.zeros((p,p))\n",
    "norm = 0\n",
    "\n",
    "for v in vowels:\n",
    "    Nv = prior_prob[v]*N\n",
    "    S += (Nv - 1)*covariance[v]\n",
    "    norm += Nv-1\n",
    "    \n",
    "S = S/norm\n",
    "S_sqrt_inv = sqrt_inv_mat(S)\n",
    "\n",
    "# We rotate the moment matrix by the above matrix\n",
    "M_star = M @ S_sqrt_inv\n",
    "\n",
    "# And we compute the covariance matrix of this matrix (the in-between CM)\n",
    "B_star = M_star.T @ M_star\n",
    "\n",
    "# Here we find which directions are the one with higher variance (take the first two to visualise)\n",
    "B_evals, B_evecs = nla.eig(B_star)\n",
    "\n",
    "vec = S_sqrt_inv @ B_evecs[:,:2]\n",
    "Z = (X_train @ vec)\n",
    "\n",
    "# Select colours for each vowel\n",
    "cols_list = list(mcolors.CSS4_COLORS.keys())\n",
    "N_col = len(cols_list)\n",
    "delta_col = N_col//11\n",
    "cols = [cols_list[i*delta_col] for i in range(1,12)]\n",
    "\n",
    "fig, ax = plt.subplots(figsize=(10,10))\n",
    "ax.set_aspect('equal')\n",
    "\n",
    "for v,col in zip(vowels,cols):\n",
    "    \n",
    "    # Projections of the input data for each vowel\n",
    "    x0,x1 = Z[y_train == v].T\n",
    "    plt.scatter(x0,x1,marker='1',label = str(v),c=col)\n",
    "    \n",
    "    # Projection of the associated mean\n",
    "    m0,m1 = vec.T @ moments[v]\n",
    "    plt.scatter(m0,m1,marker='o',c=col)\n",
    "    \n",
    "plt.legend()\n",
    "plt.show()"
   ]
  },
  {
   "cell_type": "code",
   "execution_count": null,
   "metadata": {},
   "outputs": [],
   "source": []
  }
 ],
 "metadata": {
  "kernelspec": {
   "display_name": "Python 3",
   "language": "python",
   "name": "python3"
  },
  "language_info": {
   "codemirror_mode": {
    "name": "ipython",
    "version": 3
   },
   "file_extension": ".py",
   "mimetype": "text/x-python",
   "name": "python",
   "nbconvert_exporter": "python",
   "pygments_lexer": "ipython3",
   "version": "3.7.9"
  }
 },
 "nbformat": 4,
 "nbformat_minor": 4
}

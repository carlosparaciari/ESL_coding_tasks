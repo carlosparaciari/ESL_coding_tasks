{
 "cells": [
  {
   "cell_type": "code",
   "execution_count": 1,
   "metadata": {},
   "outputs": [],
   "source": [
    "import numpy as np\n",
    "import numpy.random as nrd\n",
    "import matplotlib.pyplot as plt\n",
    "\n",
    "from sklearn.linear_model import Ridge, Lasso, LogisticRegression\n",
    "\n",
    "from collections import defaultdict"
   ]
  },
  {
   "cell_type": "markdown",
   "metadata": {},
   "source": [
    "# Exercise 16.4\n",
    "\n",
    "Program and run the simulation study described in Figure 16.2, whose caption is as follow,\n",
    "\n",
    "Simulations that show the superiority of the L1 (lasso) penalty\n",
    "over L2 (ridge) in regression and classification. Each run has 50 observations\n",
    "with 300 independent Gaussian predictors. In the top row all 300 coefficients are\n",
    "nonzero, generated from a Gaussian distribution. In the middle row, only 10 are\n",
    "nonzero, and the last row has 30 nonzero. Gaussian errors are added to the linear\n",
    "predictor η(X) for the regression problems, and binary responses generated via the\n",
    "inverse-logit transform for the classification problems. Scaling of η(X) resulted in\n",
    "the noise-to-signal ratios shown. Lasso is used in the left sub-columns, ridge in the\n",
    "right. We report the optimal percentage of error explained on test data (relative\n",
    "to the error of a constant model), displayed as boxplots over 20 realizations for\n",
    "each combination. In the only situation where ridge beats lasso (top row), neither\n",
    "do well.\n",
    "\n",
    "# Solution\n",
    "\n",
    "Below are some useful functions,"
   ]
  },
  {
   "cell_type": "code",
   "execution_count": 2,
   "metadata": {},
   "outputs": [],
   "source": [
    "# random number generator\n",
    "rng = nrd.default_rng(seed=140590)\n",
    "\n",
    "# Generate Nxp predictors normally distributed\n",
    "def predictors(N,p,rng):\n",
    "    return rng.normal(size=(N,p))\n",
    "\n",
    "# Generate p coefficients normally distributed (only p_nonzero of them are != 0)\n",
    "def coefficients(p,p_nonzero,rng):\n",
    "    \n",
    "    theta = np.zeros(p)\n",
    "    theta[:p_nonzero] = rng.normal(size=p_nonzero)\n",
    "    \n",
    "    return theta\n",
    "\n",
    "# Generate the regression respone y from the predictors, with scaling\n",
    "# alpha achieving a given noise-to-signal treshold\n",
    "def response_regression(X,theta,nsr,rng):\n",
    "    \n",
    "    N,_ = X.shape\n",
    "    \n",
    "    # Shrinkage for Noise-to-Signal ratio (regression)\n",
    "    alpha = 1/np.sqrt(nsr * theta @ theta)\n",
    "    \n",
    "    # Response\n",
    "    y = alpha * X @ theta + rng.normal(size=N)\n",
    "    \n",
    "    return y,alpha\n",
    "\n",
    "# Check the noise-to-signal treshold for regression\n",
    "def nsr_regression(X,theta,alpha,y):\n",
    "    return np.var(y - alpha * X @ theta)/np.var(alpha * X @ theta)\n",
    "    \n",
    "# Inverse logit transformation\n",
    "def inv_logit(x):\n",
    "    return np.exp(x)/(1+np.exp(x))\n",
    "\n",
    "# Generate the classification respone y from the predictors, with scaling\n",
    "# alpha achieving a given noise-to-signal treshold\n",
    "def response_classification(X,theta,nsr,rng):\n",
    "    \n",
    "    N,_ = X.shape\n",
    "    \n",
    "    # Shrinkage for Noise-to-Signal ratio (classification)\n",
    "    alpha = 1/np.sqrt(4* nsr * theta @ theta)\n",
    "    \n",
    "    # Response\n",
    "    y = inv_logit(alpha * X @ theta + rng.normal(size=N)) > 1/2\n",
    "        \n",
    "    return y, alpha\n",
    "\n",
    "# Check the noise-to-signal treshold for classification\n",
    "def nsr_classification(X,theta,alpha,y):\n",
    "    return np.var(y)/np.var(alpha * X @ theta)"
   ]
  },
  {
   "cell_type": "markdown",
   "metadata": {},
   "source": [
    "### Noise-to-signal ratio\n",
    "\n",
    "Let's check that we are generating responses with the correct noise-to-signal ratio,"
   ]
  },
  {
   "cell_type": "code",
   "execution_count": 3,
   "metadata": {},
   "outputs": [
    {
     "name": "stdout",
     "output_type": "stream",
     "text": [
      "The noise-to-signal ratio we aim to achieve = 0.5\n",
      "The noise-to-signal ratio for regression = 0.4969 (SE 0.0031)\n",
      "The noise-to-signal ratio for classification = 0.5025 (SE 0.0022)\n"
     ]
    }
   ],
   "source": [
    "N = 1000 # Number of observation\n",
    "p = 300  # Number of predictors\n",
    "K = 100  # Number of different datasets\n",
    "\n",
    "# The noise-to-signal ratio we want to achive\n",
    "nsr = 0.5\n",
    "print('The noise-to-signal ratio we aim to achieve = {}'.format(nsr))\n",
    "\n",
    "theta = coefficients(p,p,rng)\n",
    "\n",
    "# Regression response\n",
    "estimated_nsr = []\n",
    "for _ in range(K):\n",
    "    \n",
    "    X = predictors(N,p,rng)\n",
    "    y, alpha = response_regression(X,theta,nsr,rng)\n",
    "    estimated_nsr.append(nsr_regression(X,theta,alpha,y))\n",
    "\n",
    "nsr_est = np.mean(estimated_nsr)\n",
    "nsr_se = np.std(estimated_nsr)/np.sqrt(K)\n",
    "\n",
    "print('The noise-to-signal ratio for regression = {:.4f} (SE {:.4f})'.format(nsr_est,nsr_se))\n",
    "\n",
    "# Classification response\n",
    "estimated_nsr = []\n",
    "for _ in range(K):\n",
    "    \n",
    "    X = predictors(N,p,rng)\n",
    "    y, alpha = response_classification(X,theta,nsr,rng)\n",
    "    estimated_nsr.append(nsr_classification(X,theta,alpha,y))\n",
    "\n",
    "nsr_est = np.mean(estimated_nsr)\n",
    "nsr_se = np.std(estimated_nsr)/np.sqrt(K)\n",
    "\n",
    "print('The noise-to-signal ratio for classification = {:.4f} (SE {:.4f})'.format(nsr_est,nsr_se))"
   ]
  },
  {
   "cell_type": "markdown",
   "metadata": {},
   "source": [
    "### Regression and classification analysis\n",
    "\n",
    "We compare the performance of lasso and ridge in high-dimensional input spaces, for both regression and classification"
   ]
  },
  {
   "cell_type": "code",
   "execution_count": 4,
   "metadata": {},
   "outputs": [
    {
     "name": "stdout",
     "output_type": "stream",
     "text": [
      "Simulation for sparsity = 0.00 and NSR = 0.1 done\n",
      "Simulation for sparsity = 0.00 and NSR = 0.2 done\n",
      "Simulation for sparsity = 0.00 and NSR = 0.3 done\n",
      "Simulation for sparsity = 0.00 and NSR = 0.4 done\n",
      "Simulation for sparsity = 0.00 and NSR = 0.5 done\n",
      "Simulation for sparsity = 0.97 and NSR = 0.1 done\n",
      "Simulation for sparsity = 0.97 and NSR = 0.2 done\n",
      "Simulation for sparsity = 0.97 and NSR = 0.3 done\n",
      "Simulation for sparsity = 0.97 and NSR = 0.4 done\n",
      "Simulation for sparsity = 0.97 and NSR = 0.5 done\n",
      "Simulation for sparsity = 0.90 and NSR = 0.1 done\n",
      "Simulation for sparsity = 0.90 and NSR = 0.2 done\n",
      "Simulation for sparsity = 0.90 and NSR = 0.3 done\n",
      "Simulation for sparsity = 0.90 and NSR = 0.4 done\n",
      "Simulation for sparsity = 0.90 and NSR = 0.5 done\n"
     ]
    }
   ],
   "source": [
    "# Parameters for the training\n",
    "N_train = 50\n",
    "p = 300\n",
    "K = 20\n",
    "\n",
    "# Test set\n",
    "N_test = 5000\n",
    "X_test = predictors(N_test,p,rng)\n",
    "\n",
    "# We consider responses with/without sparsity, and with different noise-to-signal ratios\n",
    "p_nonzero = [300,10,30]\n",
    "noise_to_signal = [0.1,0.2,0.3,0.4,0.5]\n",
    "\n",
    "# The regularisation parameters for lasso and ridge (different for regression and classification)\n",
    "reg_parameters = [1e-4 * 10**(4*k/50) for k in range(50)]\n",
    "clas_parameters = [1e-3 * 10**(6*k/50) for k in range(50)]\n",
    "\n",
    "R_square_lasso = defaultdict(list)\n",
    "R_square_ridge = defaultdict(list)\n",
    "misclassification_lasso = defaultdict(list)\n",
    "misclassification_ridge = defaultdict(list)\n",
    "\n",
    "# First we construct different coefficients, some are sparse, some are dense\n",
    "for pnz in p_nonzero:\n",
    "    theta = coefficients(p,pnz,rng)\n",
    "    \n",
    "    # Here we construct the test response for different noise-to-signal ratios\n",
    "    for nsr in noise_to_signal:\n",
    "        y_test_reg, _ = response_regression(X_test,theta,nsr,rng)\n",
    "        y_test_clas, _ = response_classification(X_test,theta,nsr,rng)\n",
    "        \n",
    "        # for each sparsity/NSR we make K sample of the predictors/response RVs\n",
    "        for _ in range(K):\n",
    "            \n",
    "            # Preparing the input+response for regression and classification\n",
    "            X_train = predictors(N_train,p,rng)\n",
    "            y_train_reg, _ = response_regression(X_train,theta,nsr,rng)\n",
    "            y_train_clas, _ = response_classification(X_train,theta,nsr,rng)\n",
    "            \n",
    "            ## Regression\n",
    "            score_lasso = []\n",
    "            score_ridge = []\n",
    "            \n",
    "            for reg in reg_parameters:\n",
    "                \n",
    "                # Fitting the data with Lasso, computing R square on test data\n",
    "                model_lasso = Lasso(alpha=reg,max_iter=7000)\n",
    "                model_lasso.fit(X_train, y_train_reg)\n",
    "                score_lasso.append(model_lasso.score(X_test,y_test_reg))\n",
    "                \n",
    "                # Fitting the data with Ridge, computing R square on test data\n",
    "                model_ridge = Ridge(alpha=(2*N)*reg,max_iter=7000) # 2N due to loss ridge != lasso\n",
    "                model_ridge.fit(X_train, y_train_reg)\n",
    "                score_ridge.append(model_ridge.score(X_test,y_test_reg))\n",
    "                \n",
    "            R_square_lasso[(pnz,nsr)].append(max(score_lasso))\n",
    "            R_square_ridge[(pnz,nsr)].append(max(score_ridge))\n",
    "                \n",
    "            ## Classification\n",
    "            score_lasso = []\n",
    "            score_ridge = []\n",
    "            \n",
    "            for reg in clas_parameters:\n",
    "                \n",
    "                model_lasso = LogisticRegression(penalty='l1', C=1e2*reg, max_iter=1000,\n",
    "                                                 solver='liblinear')\n",
    "                model_lasso.fit(X_train, y_train_clas)\n",
    "                score_lasso.append(model_lasso.score(X_test,y_test_clas))\n",
    "                \n",
    "                model_ridge = LogisticRegression(penalty='l2', C=reg, max_iter=1000,\n",
    "                                                 solver='liblinear')\n",
    "                model_ridge.fit(X_train, y_train_clas)\n",
    "                score_ridge.append(model_ridge.score(X_test,y_test_clas))\n",
    "                \n",
    "            misclassification_lasso[(pnz,nsr)].append(1-2*(1-max(score_lasso)))\n",
    "            misclassification_ridge[(pnz,nsr)].append(1-2*(1-max(score_ridge)))\n",
    "            \n",
    "        print('Simulation for sparsity = {:.2f} and NSR = {:.1f} done'.format(1-pnz/p,nsr))"
   ]
  },
  {
   "cell_type": "markdown",
   "metadata": {},
   "source": [
    "### Regression performance\n",
    "\n",
    "Let's see how Lasso and Ridge compare to each others with dense/sparse data and low/high noise-to-signal ratios, in regression tasks."
   ]
  },
  {
   "cell_type": "code",
   "execution_count": 5,
   "metadata": {},
   "outputs": [
    {
     "data": {
      "image/png": "[encoded data removed]",
      "text/plain": [
       "<Figure size 432x288 with 2 Axes>"
      ]
     },
     "metadata": {
      "needs_background": "light"
     },
     "output_type": "display_data"
    },
    {
     "data": {
      "image/png": "[encoded data removed]",
      "text/plain": [
       "<Figure size 432x288 with 2 Axes>"
      ]
     },
     "metadata": {
      "needs_background": "light"
     },
     "output_type": "display_data"
    },
    {
     "data": {
      "image/png": "[encoded data removed]",
      "text/plain": [
       "<Figure size 432x288 with 2 Axes>"
      ]
     },
     "metadata": {
      "needs_background": "light"
     },
     "output_type": "display_data"
    }
   ],
   "source": [
    "for pnz in p_nonzero:\n",
    "    \n",
    "    data_lasso = [R_square_lasso[(pnz,nsr)] for nsr in noise_to_signal]\n",
    "    data_ridge = [R_square_ridge[(pnz,nsr)] for nsr in noise_to_signal]\n",
    "    \n",
    "    plt.suptitle('Regression with sparsity = {:.2f}'.format(1-pnz/p))\n",
    "    \n",
    "    plt.subplot(1,2,1)\n",
    "    plt.boxplot(data_lasso,labels=noise_to_signal)\n",
    "    plt.title('Lasso')\n",
    "    plt.ylim((-0.1,1.0))\n",
    "                 \n",
    "    plt.subplot(1,2,2)\n",
    "    plt.boxplot(data_ridge,labels=noise_to_signal)\n",
    "    plt.title('Ridge')\n",
    "    plt.ylim((-0.1,1.0))\n",
    "    plt.show()"
   ]
  },
  {
   "cell_type": "markdown",
   "metadata": {},
   "source": [
    "### Regression performance\n",
    "\n",
    "Let's see how Lasso and Ridge compare to each others with dense/sparse data and low/high noise-to-signal ratios, in classification tasks."
   ]
  },
  {
   "cell_type": "code",
   "execution_count": 7,
   "metadata": {},
   "outputs": [
    {
     "data": {
      "image/png": "[encoded data removed]",
      "text/plain": [
       "<Figure size 432x288 with 2 Axes>"
      ]
     },
     "metadata": {
      "needs_background": "light"
     },
     "output_type": "display_data"
    },
    {
     "data": {
      "image/png": "[encoded data removed]",
      "text/plain": [
       "<Figure size 432x288 with 2 Axes>"
      ]
     },
     "metadata": {
      "needs_background": "light"
     },
     "output_type": "display_data"
    },
    {
     "data": {
      "image/png": "[encoded data removed]",
      "text/plain": [
       "<Figure size 432x288 with 2 Axes>"
      ]
     },
     "metadata": {
      "needs_background": "light"
     },
     "output_type": "display_data"
    }
   ],
   "source": [
    "for pnz in p_nonzero:\n",
    "    \n",
    "    data_lasso = [misclassification_lasso[(pnz,nsr)] for nsr in noise_to_signal]\n",
    "    data_ridge = [misclassification_ridge[(pnz,nsr)] for nsr in noise_to_signal]\n",
    "    \n",
    "    plt.suptitle('Classification with sparsity = {:.2f}'.format(1-pnz/p))\n",
    "    \n",
    "    plt.subplot(1,2,1)\n",
    "    plt.boxplot(data_lasso,labels=noise_to_signal)\n",
    "    plt.title('Lasso')\n",
    "    plt.ylim((-0.1,1.0))\n",
    "                 \n",
    "    plt.subplot(1,2,2)\n",
    "    plt.boxplot(data_ridge,labels=noise_to_signal)\n",
    "    plt.title('Ridge')\n",
    "    plt.ylim((-0.1,1.0))\n",
    "    plt.show()"
   ]
  },
  {
   "cell_type": "code",
   "execution_count": null,
   "metadata": {},
   "outputs": [],
   "source": []
  }
 ],
 "metadata": {
  "kernelspec": {
   "display_name": "Python 3",
   "language": "python",
   "name": "python3"
  },
  "language_info": {
   "codemirror_mode": {
    "name": "ipython",
    "version": 3
   },
   "file_extension": ".py",
   "mimetype": "text/x-python",
   "name": "python",
   "nbconvert_exporter": "python",
   "pygments_lexer": "ipython3",
   "version": "3.7.9"
  }
 },
 "nbformat": 4,
 "nbformat_minor": 4
}

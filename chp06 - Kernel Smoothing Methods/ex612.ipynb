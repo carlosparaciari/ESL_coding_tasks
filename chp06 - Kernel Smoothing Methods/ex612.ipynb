{
 "cells": [
  {
   "cell_type": "code",
   "execution_count": 1,
   "metadata": {},
   "outputs": [],
   "source": [
    "import pandas as pd\n",
    "import numpy as np\n",
    "import numpy.linalg as nla\n",
    "import numpy.random as nrd\n",
    "import matplotlib.pyplot as plt"
   ]
  },
  {
   "cell_type": "markdown",
   "metadata": {},
   "source": [
    "# Exercise 6.12\n",
    "\n",
    "Write a computer program to perform a local linear discriminant analysis. At each query point x0, the training data receive weights $K_{\\lambda}(x0, xi)$ from a weighting kernel, and the ingredients for the linear decision boundaries (see Section 4.3) are computed by weighted averages.\n",
    "\n",
    "Try out your program on the zipcode data, and show the training and test errors for a series of five pre-chosen values of λ.\n",
    "\n",
    "# Solution\n",
    "\n",
    "Let's load the training and test data"
   ]
  },
  {
   "cell_type": "code",
   "execution_count": 2,
   "metadata": {},
   "outputs": [
    {
     "data": {
      "text/html": [
       "<div>\n",
       "<style scoped>\n",
       "    .dataframe tbody tr th:only-of-type {\n",
       "        vertical-align: middle;\n",
       "    }\n",
       "\n",
       "    .dataframe tbody tr th {\n",
       "        vertical-align: top;\n",
       "    }\n",
       "\n",
       "    .dataframe thead th {\n",
       "        text-align: right;\n",
       "    }\n",
       "</style>\n",
       "<table border=\"1\" class=\"dataframe\">\n",
       "  <thead>\n",
       "    <tr style=\"text-align: right;\">\n",
       "      <th></th>\n",
       "      <th>0</th>\n",
       "      <th>1</th>\n",
       "      <th>2</th>\n",
       "      <th>3</th>\n",
       "      <th>4</th>\n",
       "      <th>5</th>\n",
       "      <th>6</th>\n",
       "      <th>7</th>\n",
       "      <th>8</th>\n",
       "      <th>9</th>\n",
       "      <th>...</th>\n",
       "      <th>247</th>\n",
       "      <th>248</th>\n",
       "      <th>249</th>\n",
       "      <th>250</th>\n",
       "      <th>251</th>\n",
       "      <th>252</th>\n",
       "      <th>253</th>\n",
       "      <th>254</th>\n",
       "      <th>255</th>\n",
       "      <th>256</th>\n",
       "    </tr>\n",
       "  </thead>\n",
       "  <tbody>\n",
       "    <tr>\n",
       "      <th>1006</th>\n",
       "      <td>0</td>\n",
       "      <td>-1.0</td>\n",
       "      <td>-1.0</td>\n",
       "      <td>-1.0</td>\n",
       "      <td>-1.0</td>\n",
       "      <td>-0.736</td>\n",
       "      <td>0.220</td>\n",
       "      <td>0.999</td>\n",
       "      <td>0.779</td>\n",
       "      <td>-0.764</td>\n",
       "      <td>...</td>\n",
       "      <td>0.000</td>\n",
       "      <td>-0.545</td>\n",
       "      <td>-1.000</td>\n",
       "      <td>-1.000</td>\n",
       "      <td>-1.000</td>\n",
       "      <td>-1.000</td>\n",
       "      <td>-1.000</td>\n",
       "      <td>-1.000</td>\n",
       "      <td>-1.0</td>\n",
       "      <td>-1.0</td>\n",
       "    </tr>\n",
       "    <tr>\n",
       "      <th>928</th>\n",
       "      <td>2</td>\n",
       "      <td>-1.0</td>\n",
       "      <td>-1.0</td>\n",
       "      <td>-1.0</td>\n",
       "      <td>-1.0</td>\n",
       "      <td>-0.686</td>\n",
       "      <td>-0.168</td>\n",
       "      <td>0.238</td>\n",
       "      <td>0.645</td>\n",
       "      <td>0.855</td>\n",
       "      <td>...</td>\n",
       "      <td>0.118</td>\n",
       "      <td>0.843</td>\n",
       "      <td>1.000</td>\n",
       "      <td>1.000</td>\n",
       "      <td>0.957</td>\n",
       "      <td>0.484</td>\n",
       "      <td>-0.192</td>\n",
       "      <td>-0.994</td>\n",
       "      <td>-1.0</td>\n",
       "      <td>-1.0</td>\n",
       "    </tr>\n",
       "    <tr>\n",
       "      <th>1570</th>\n",
       "      <td>9</td>\n",
       "      <td>-1.0</td>\n",
       "      <td>-1.0</td>\n",
       "      <td>-1.0</td>\n",
       "      <td>-1.0</td>\n",
       "      <td>-1.000</td>\n",
       "      <td>-0.984</td>\n",
       "      <td>-0.398</td>\n",
       "      <td>0.416</td>\n",
       "      <td>0.988</td>\n",
       "      <td>...</td>\n",
       "      <td>0.591</td>\n",
       "      <td>0.719</td>\n",
       "      <td>-0.856</td>\n",
       "      <td>-1.000</td>\n",
       "      <td>-1.000</td>\n",
       "      <td>-1.000</td>\n",
       "      <td>-1.000</td>\n",
       "      <td>-1.000</td>\n",
       "      <td>-1.0</td>\n",
       "      <td>-1.0</td>\n",
       "    </tr>\n",
       "    <tr>\n",
       "      <th>526</th>\n",
       "      <td>8</td>\n",
       "      <td>-1.0</td>\n",
       "      <td>-1.0</td>\n",
       "      <td>-1.0</td>\n",
       "      <td>-1.0</td>\n",
       "      <td>-1.000</td>\n",
       "      <td>-1.000</td>\n",
       "      <td>-0.853</td>\n",
       "      <td>-0.218</td>\n",
       "      <td>0.416</td>\n",
       "      <td>...</td>\n",
       "      <td>0.735</td>\n",
       "      <td>0.333</td>\n",
       "      <td>0.101</td>\n",
       "      <td>-0.756</td>\n",
       "      <td>-1.000</td>\n",
       "      <td>-1.000</td>\n",
       "      <td>-1.000</td>\n",
       "      <td>-1.000</td>\n",
       "      <td>-1.0</td>\n",
       "      <td>-1.0</td>\n",
       "    </tr>\n",
       "    <tr>\n",
       "      <th>1955</th>\n",
       "      <td>0</td>\n",
       "      <td>-1.0</td>\n",
       "      <td>-1.0</td>\n",
       "      <td>-1.0</td>\n",
       "      <td>-1.0</td>\n",
       "      <td>-1.000</td>\n",
       "      <td>0.376</td>\n",
       "      <td>0.961</td>\n",
       "      <td>0.304</td>\n",
       "      <td>0.152</td>\n",
       "      <td>...</td>\n",
       "      <td>0.660</td>\n",
       "      <td>0.432</td>\n",
       "      <td>0.182</td>\n",
       "      <td>-0.739</td>\n",
       "      <td>-1.000</td>\n",
       "      <td>-1.000</td>\n",
       "      <td>-1.000</td>\n",
       "      <td>-1.000</td>\n",
       "      <td>-1.0</td>\n",
       "      <td>-1.0</td>\n",
       "    </tr>\n",
       "  </tbody>\n",
       "</table>\n",
       "<p>5 rows × 257 columns</p>\n",
       "</div>"
      ],
      "text/plain": [
       "      0    1    2    3    4      5      6      7      8      9    ...    247  \\\n",
       "1006    0 -1.0 -1.0 -1.0 -1.0 -0.736  0.220  0.999  0.779 -0.764  ...  0.000   \n",
       "928     2 -1.0 -1.0 -1.0 -1.0 -0.686 -0.168  0.238  0.645  0.855  ...  0.118   \n",
       "1570    9 -1.0 -1.0 -1.0 -1.0 -1.000 -0.984 -0.398  0.416  0.988  ...  0.591   \n",
       "526     8 -1.0 -1.0 -1.0 -1.0 -1.000 -1.000 -0.853 -0.218  0.416  ...  0.735   \n",
       "1955    0 -1.0 -1.0 -1.0 -1.0 -1.000  0.376  0.961  0.304  0.152  ...  0.660   \n",
       "\n",
       "        248    249    250    251    252    253    254  255  256  \n",
       "1006 -0.545 -1.000 -1.000 -1.000 -1.000 -1.000 -1.000 -1.0 -1.0  \n",
       "928   0.843  1.000  1.000  0.957  0.484 -0.192 -0.994 -1.0 -1.0  \n",
       "1570  0.719 -0.856 -1.000 -1.000 -1.000 -1.000 -1.000 -1.0 -1.0  \n",
       "526   0.333  0.101 -0.756 -1.000 -1.000 -1.000 -1.000 -1.0 -1.0  \n",
       "1955  0.432  0.182 -0.739 -1.000 -1.000 -1.000 -1.000 -1.0 -1.0  \n",
       "\n",
       "[5 rows x 257 columns]"
      ]
     },
     "execution_count": 2,
     "metadata": {},
     "output_type": "execute_result"
    }
   ],
   "source": [
    "training_link = \"https://web.stanford.edu/~hastie/ElemStatLearn/datasets/zip.train.gz\"\n",
    "test_link = \"https://web.stanford.edu/~hastie/ElemStatLearn/datasets/zip.test.gz\"\n",
    "\n",
    "training_dataframe = pd.read_csv(training_link,sep=' ',header=None,usecols=range(257))\n",
    "test_dataframe = pd.read_csv(test_link,sep=' ',header=None,usecols=range(257))\n",
    "\n",
    "# Shuffling the rows\n",
    "training_dataframe = training_dataframe.sample(frac=1)\n",
    "test_dataframe = test_dataframe.sample(frac=1)\n",
    "\n",
    "test_dataframe.tail()"
   ]
  },
  {
   "cell_type": "code",
   "execution_count": 3,
   "metadata": {},
   "outputs": [],
   "source": [
    "# The data have already been standardized (and is)\n",
    "\n",
    "#Training\n",
    "y_train = training_dataframe.pop(0).to_numpy()\n",
    "X_train = training_dataframe.to_numpy()\n",
    "\n",
    "#Test\n",
    "y_test = test_dataframe.pop(0).to_numpy()\n",
    "X_test = test_dataframe.to_numpy()"
   ]
  },
  {
   "cell_type": "markdown",
   "metadata": {},
   "source": [
    "The Epanechnikov Kernel and the Gaussian Kernel"
   ]
  },
  {
   "cell_type": "code",
   "execution_count": 4,
   "metadata": {},
   "outputs": [],
   "source": [
    "def kernel(x0,X,lam):\n",
    "    \n",
    "    norm = np.minimum(nla.norm(X-x0,axis=1)/lam,1)\n",
    "    epanechnikov = 3*lam*(1-norm**2)/(2*(3-lam**2))\n",
    "    \n",
    "    return epanechnikov\n",
    "\n",
    "def gauss_kernel(x0,X,lam):\n",
    "    \n",
    "    norm = nla.norm(X-x0,axis=1)\n",
    "    gauss = np.exp(- norm**2 / (2*lam**2) ) / (np.sqrt(2*np.pi)*lam)\n",
    "    \n",
    "    return gauss"
   ]
  },
  {
   "cell_type": "code",
   "execution_count": 5,
   "metadata": {},
   "outputs": [
    {
     "data": {
      "image/png": "[encoded data removed]",
      "text/plain": [
       "<Figure size 432x288 with 1 Axes>"
      ]
     },
     "metadata": {
      "needs_background": "light"
     },
     "output_type": "display_data"
    }
   ],
   "source": [
    "# Example of Epanechnikov and Gaussian kernel\n",
    "x_line = np.arange(-3,3,0.1)\n",
    "x_arr = x_line.reshape((x_line.size,1))\n",
    "x0 = 0\n",
    "lam = 1\n",
    "\n",
    "wx1 = kernel(x0,x_arr,lam)\n",
    "wx2 = gauss_kernel(x0,x_arr,lam)\n",
    "plt.plot(x_line,wx1,label='Epanechnikov Kernel')\n",
    "plt.plot(x_line,wx2,label='Gaussian Kernel')\n",
    "plt.legend()\n",
    "plt.show()"
   ]
  },
  {
   "cell_type": "markdown",
   "metadata": {},
   "source": [
    "Local Linear Discriminant Analysis"
   ]
  },
  {
   "cell_type": "code",
   "execution_count": 6,
   "metadata": {},
   "outputs": [],
   "source": [
    "def local_lda(x0,X,y,K):\n",
    "    \n",
    "    _,p = X.shape\n",
    "    \n",
    "    weights = K(x0,X)\n",
    "    norm = np.sum(weights)\n",
    "    \n",
    "    mu = {}\n",
    "    prob = {}\n",
    "    sig = np.zeros((p,p))\n",
    "    \n",
    "    for cls in set(y):\n",
    "        \n",
    "        bool_cls = y == cls\n",
    "        w_cls = weights[bool_cls]\n",
    "        w_cls = w_cls.reshape((w_cls.size,1))\n",
    "        X_cls = X[bool_cls]\n",
    "        \n",
    "        # Compute the prior and the mean for each class\n",
    "        prob[cls] = np.sum(w_cls)/norm\n",
    "        mu[cls] = np.sum(w_cls * X_cls,axis=0)/norm\n",
    "        \n",
    "        # Compute useful quantities for variance\n",
    "        res = X_cls - mu[cls]\n",
    "        sig += res.T @ (w_cls * res)\n",
    "        \n",
    "    sig = sig/norm\n",
    "    inv_sig = nla.pinv(sig)\n",
    "    \n",
    "    # Classification using local LDA\n",
    "    delta_max = - np.infty\n",
    "    \n",
    "    for cls in set(y):\n",
    "        delta = x0 @ inv_sig @ mu[cls] - mu[cls] @ inv_sig @ mu[cls] / 2 + np.log(prob[cls])\n",
    "        if delta > delta_max:\n",
    "            delta_max = delta\n",
    "            output = cls\n",
    "            \n",
    "    return output"
   ]
  },
  {
   "cell_type": "markdown",
   "metadata": {},
   "source": [
    "Test and training errors"
   ]
  },
  {
   "cell_type": "code",
   "execution_count": 7,
   "metadata": {},
   "outputs": [],
   "source": [
    "N = 1000\n",
    "\n",
    "X_train_subs = X_train[:N]\n",
    "y_train_subs = y_train[:N]\n",
    "\n",
    "X_test_subs = X_test[:N]\n",
    "y_test_subs = y_test[:N]\n",
    "\n",
    "lam_list = [1,3,10,30,100]\n",
    "\n",
    "train_error = []\n",
    "test_error = []\n",
    "\n",
    "for lam in lam_list:\n",
    "    \n",
    "    K = lambda x0,X : gauss_kernel(x0,X,lam)\n",
    "    \n",
    "    y_pred_train = []\n",
    "    y_pred_test = []\n",
    "\n",
    "    for x0 in X_train_subs:\n",
    "        y_pred_train.append(local_lda(x0,X_train,y_train,K))\n",
    "        \n",
    "    for x0 in X_test_subs:\n",
    "        y_pred_test.append(local_lda(x0,X_train,y_train,K))\n",
    "\n",
    "    # Training error\n",
    "    err_train = np.mean(np.array(y_pred_train) != y_train_subs)\n",
    "    train_error.append(err_train)\n",
    "    \n",
    "    # Test error\n",
    "    err_test = np.mean(np.array(y_pred_test) != y_test_subs)\n",
    "    test_error.append(err_test)"
   ]
  },
  {
   "cell_type": "markdown",
   "metadata": {},
   "source": [
    "Test and training error curves"
   ]
  },
  {
   "cell_type": "code",
   "execution_count": 9,
   "metadata": {},
   "outputs": [
    {
     "data": {
      "image/png": "[encoded data removed]",
      "text/plain": [
       "<Figure size 432x288 with 1 Axes>"
      ]
     },
     "metadata": {
      "needs_background": "light"
     },
     "output_type": "display_data"
    }
   ],
   "source": [
    "plt.plot(lam_list,train_error,label='Training error')\n",
    "plt.plot(lam_list,test_error,label='Test error')\n",
    "plt.xscale('log')\n",
    "plt.legend()\n",
    "plt.show()"
   ]
  },
  {
   "cell_type": "code",
   "execution_count": null,
   "metadata": {},
   "outputs": [],
   "source": []
  }
 ],
 "metadata": {
  "kernelspec": {
   "display_name": "Python 3",
   "language": "python",
   "name": "python3"
  },
  "language_info": {
   "codemirror_mode": {
    "name": "ipython",
    "version": 3
   },
   "file_extension": ".py",
   "mimetype": "text/x-python",
   "name": "python",
   "nbconvert_exporter": "python",
   "pygments_lexer": "ipython3",
   "version": "3.7.9"
  }
 },
 "nbformat": 4,
 "nbformat_minor": 4
}

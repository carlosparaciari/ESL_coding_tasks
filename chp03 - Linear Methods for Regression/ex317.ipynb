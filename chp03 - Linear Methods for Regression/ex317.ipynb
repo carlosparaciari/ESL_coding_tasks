{
 "cells": [
  {
   "cell_type": "code",
   "execution_count": 1,
   "metadata": {},
   "outputs": [],
   "source": [
    "import numpy as np\n",
    "import numpy.linalg as nla\n",
    "import pandas as pd\n",
    "import matplotlib.pyplot as plt\n",
    "\n",
    "from sklearn.linear_model import LinearRegression, Ridge, Lasso"
   ]
  },
  {
   "cell_type": "markdown",
   "metadata": {},
   "source": [
    "# Exercise 3.17\n",
    "\n",
    "Repeat the analysis of Table 3.3 on the spam data discussed in Chapter 1.\n",
    "\n",
    "# Solution\n",
    "\n",
    "Some useful functions we will use in the notebook,"
   ]
  },
  {
   "cell_type": "code",
   "execution_count": 2,
   "metadata": {},
   "outputs": [],
   "source": [
    "# The features are centralised and standardised\n",
    "def standardizing(X,X_test):\n",
    "    mu = np.mean(X,axis=0)\n",
    "    sig = np.std(X,axis=0)\n",
    "    return (X-mu)/sig, ((X_test-mu)/sig)\n",
    "\n",
    "# Regularization parameters\n",
    "def reg_range(min_exp,max_exp):\n",
    "    reg_params=[]\n",
    "    \n",
    "    for i in range(min_exp,max_exp):\n",
    "        reg_params.append(10**i)\n",
    "        reg_params.append(2*10**i)\n",
    "        reg_params.append(5*10**i)\n",
    "        \n",
    "    return reg_params\n",
    "\n",
    "def Kfold_crossvalidation(X,y,K):\n",
    "    \n",
    "    N,_ = X.shape\n",
    "    val_batch = N//K\n",
    "    \n",
    "    data_set = []\n",
    "    \n",
    "    for i in range(K):\n",
    "        X_val = X[val_batch*i:val_batch*(i+1)]\n",
    "        y_val = y[val_batch*i:val_batch*(i+1)]\n",
    "\n",
    "        X_train = np.concatenate((X[:val_batch*i],X[val_batch*(i+1):]))\n",
    "        y_train = np.concatenate((y[:val_batch*i],y[val_batch*(i+1):]))\n",
    "        \n",
    "        data_set.append((X_train,y_train,X_val,y_val))\n",
    "        \n",
    "    return data_set\n",
    "\n",
    "def MSE_error(y,y_predict):\n",
    "    N = y.size\n",
    "    res_square = (y - y_predict)**2\n",
    "    return np.mean(res_square)\n",
    "\n",
    "def error_summary(model,reg_type,X,y,X_test,y_test,error_dict,CV_std_err=-1):\n",
    "    # Training error\n",
    "    y_predict_train = model.predict(X)\n",
    "    train_error = MSE_error(y,y_predict_train)\n",
    "\n",
    "    # Test error\n",
    "    y_predict_test = model.predict(X_test)\n",
    "    test_error = MSE_error(y_test,y_predict_test)\n",
    "\n",
    "    print('Training error = {:.3f}'.format(train_error))\n",
    "    print('Test error = {:.3f}'.format(test_error))\n",
    "\n",
    "    error_dict[reg_type] = (test_error, CV_std_err)"
   ]
  },
  {
   "cell_type": "markdown",
   "metadata": {},
   "source": [
    "### Load the data and preprocess them"
   ]
  },
  {
   "cell_type": "code",
   "execution_count": 3,
   "metadata": {},
   "outputs": [
    {
     "data": {
      "text/html": [
       "<div>\n",
       "<style scoped>\n",
       "    .dataframe tbody tr th:only-of-type {\n",
       "        vertical-align: middle;\n",
       "    }\n",
       "\n",
       "    .dataframe tbody tr th {\n",
       "        vertical-align: top;\n",
       "    }\n",
       "\n",
       "    .dataframe thead th {\n",
       "        text-align: right;\n",
       "    }\n",
       "</style>\n",
       "<table border=\"1\" class=\"dataframe\">\n",
       "  <thead>\n",
       "    <tr style=\"text-align: right;\">\n",
       "      <th></th>\n",
       "      <th>0</th>\n",
       "      <th>1</th>\n",
       "      <th>2</th>\n",
       "      <th>3</th>\n",
       "      <th>4</th>\n",
       "      <th>5</th>\n",
       "      <th>6</th>\n",
       "      <th>7</th>\n",
       "      <th>8</th>\n",
       "      <th>9</th>\n",
       "      <th>...</th>\n",
       "      <th>48</th>\n",
       "      <th>49</th>\n",
       "      <th>50</th>\n",
       "      <th>51</th>\n",
       "      <th>52</th>\n",
       "      <th>53</th>\n",
       "      <th>54</th>\n",
       "      <th>55</th>\n",
       "      <th>56</th>\n",
       "      <th>57</th>\n",
       "    </tr>\n",
       "  </thead>\n",
       "  <tbody>\n",
       "    <tr>\n",
       "      <th>1240</th>\n",
       "      <td>0.00</td>\n",
       "      <td>0.19</td>\n",
       "      <td>0.00</td>\n",
       "      <td>0.0</td>\n",
       "      <td>0.68</td>\n",
       "      <td>0.09</td>\n",
       "      <td>0.09</td>\n",
       "      <td>0.00</td>\n",
       "      <td>0.29</td>\n",
       "      <td>0.09</td>\n",
       "      <td>...</td>\n",
       "      <td>0.000</td>\n",
       "      <td>0.030</td>\n",
       "      <td>0.000</td>\n",
       "      <td>0.060</td>\n",
       "      <td>0.045</td>\n",
       "      <td>0.0</td>\n",
       "      <td>1.597</td>\n",
       "      <td>20</td>\n",
       "      <td>329</td>\n",
       "      <td>1</td>\n",
       "    </tr>\n",
       "    <tr>\n",
       "      <th>197</th>\n",
       "      <td>0.17</td>\n",
       "      <td>0.00</td>\n",
       "      <td>0.08</td>\n",
       "      <td>0.0</td>\n",
       "      <td>0.42</td>\n",
       "      <td>0.08</td>\n",
       "      <td>0.08</td>\n",
       "      <td>0.42</td>\n",
       "      <td>0.08</td>\n",
       "      <td>0.08</td>\n",
       "      <td>...</td>\n",
       "      <td>0.000</td>\n",
       "      <td>0.081</td>\n",
       "      <td>0.027</td>\n",
       "      <td>0.108</td>\n",
       "      <td>0.013</td>\n",
       "      <td>0.0</td>\n",
       "      <td>4.070</td>\n",
       "      <td>48</td>\n",
       "      <td>574</td>\n",
       "      <td>1</td>\n",
       "    </tr>\n",
       "    <tr>\n",
       "      <th>4401</th>\n",
       "      <td>0.00</td>\n",
       "      <td>0.00</td>\n",
       "      <td>0.00</td>\n",
       "      <td>0.0</td>\n",
       "      <td>0.00</td>\n",
       "      <td>0.00</td>\n",
       "      <td>0.00</td>\n",
       "      <td>0.00</td>\n",
       "      <td>0.00</td>\n",
       "      <td>0.00</td>\n",
       "      <td>...</td>\n",
       "      <td>0.000</td>\n",
       "      <td>0.000</td>\n",
       "      <td>0.000</td>\n",
       "      <td>0.000</td>\n",
       "      <td>0.000</td>\n",
       "      <td>0.0</td>\n",
       "      <td>1.571</td>\n",
       "      <td>5</td>\n",
       "      <td>11</td>\n",
       "      <td>0</td>\n",
       "    </tr>\n",
       "    <tr>\n",
       "      <th>4009</th>\n",
       "      <td>0.00</td>\n",
       "      <td>0.00</td>\n",
       "      <td>0.00</td>\n",
       "      <td>0.0</td>\n",
       "      <td>0.00</td>\n",
       "      <td>0.00</td>\n",
       "      <td>0.00</td>\n",
       "      <td>0.00</td>\n",
       "      <td>0.00</td>\n",
       "      <td>0.00</td>\n",
       "      <td>...</td>\n",
       "      <td>0.000</td>\n",
       "      <td>0.000</td>\n",
       "      <td>0.000</td>\n",
       "      <td>0.000</td>\n",
       "      <td>0.000</td>\n",
       "      <td>0.0</td>\n",
       "      <td>2.160</td>\n",
       "      <td>11</td>\n",
       "      <td>54</td>\n",
       "      <td>0</td>\n",
       "    </tr>\n",
       "    <tr>\n",
       "      <th>2907</th>\n",
       "      <td>0.00</td>\n",
       "      <td>0.00</td>\n",
       "      <td>0.00</td>\n",
       "      <td>0.0</td>\n",
       "      <td>0.00</td>\n",
       "      <td>0.00</td>\n",
       "      <td>0.00</td>\n",
       "      <td>0.00</td>\n",
       "      <td>0.00</td>\n",
       "      <td>0.00</td>\n",
       "      <td>...</td>\n",
       "      <td>0.675</td>\n",
       "      <td>1.351</td>\n",
       "      <td>0.000</td>\n",
       "      <td>0.000</td>\n",
       "      <td>0.000</td>\n",
       "      <td>0.0</td>\n",
       "      <td>3.700</td>\n",
       "      <td>26</td>\n",
       "      <td>37</td>\n",
       "      <td>0</td>\n",
       "    </tr>\n",
       "  </tbody>\n",
       "</table>\n",
       "<p>5 rows × 58 columns</p>\n",
       "</div>"
      ],
      "text/plain": [
       "        0     1     2    3     4     5     6     7     8     9   ...     48  \\\n",
       "1240  0.00  0.19  0.00  0.0  0.68  0.09  0.09  0.00  0.29  0.09  ...  0.000   \n",
       "197   0.17  0.00  0.08  0.0  0.42  0.08  0.08  0.42  0.08  0.08  ...  0.000   \n",
       "4401  0.00  0.00  0.00  0.0  0.00  0.00  0.00  0.00  0.00  0.00  ...  0.000   \n",
       "4009  0.00  0.00  0.00  0.0  0.00  0.00  0.00  0.00  0.00  0.00  ...  0.000   \n",
       "2907  0.00  0.00  0.00  0.0  0.00  0.00  0.00  0.00  0.00  0.00  ...  0.675   \n",
       "\n",
       "         49     50     51     52   53     54  55   56  57  \n",
       "1240  0.030  0.000  0.060  0.045  0.0  1.597  20  329   1  \n",
       "197   0.081  0.027  0.108  0.013  0.0  4.070  48  574   1  \n",
       "4401  0.000  0.000  0.000  0.000  0.0  1.571   5   11   0  \n",
       "4009  0.000  0.000  0.000  0.000  0.0  2.160  11   54   0  \n",
       "2907  1.351  0.000  0.000  0.000  0.0  3.700  26   37   0  \n",
       "\n",
       "[5 rows x 58 columns]"
      ]
     },
     "execution_count": 3,
     "metadata": {},
     "output_type": "execute_result"
    }
   ],
   "source": [
    "url_link = 'https://web.stanford.edu/~hastie/ElemStatLearn/datasets/spam.data'\n",
    "dataset = pd.read_csv(url_link, sep=' ',header=None)\n",
    "\n",
    "# Divide between the training set and the test set\n",
    "train_dataset = dataset.sample(frac=0.7,random_state=140590)\n",
    "test_dataset = dataset.drop(train_dataset.index)\n",
    "\n",
    "train_dataset.tail()"
   ]
  },
  {
   "cell_type": "code",
   "execution_count": 4,
   "metadata": {},
   "outputs": [],
   "source": [
    "# Get features and labels\n",
    "y = train_dataset.pop(57).to_numpy()\n",
    "y_test = test_dataset.pop(57).to_numpy()\n",
    "\n",
    "# We standardize the input accoding to the training distribution\n",
    "X, X_test = standardizing(train_dataset.to_numpy(), test_dataset.to_numpy())"
   ]
  },
  {
   "cell_type": "markdown",
   "metadata": {},
   "source": [
    "## Test and Std Error for different methods"
   ]
  },
  {
   "cell_type": "code",
   "execution_count": 5,
   "metadata": {},
   "outputs": [],
   "source": [
    "error_dict = {}"
   ]
  },
  {
   "cell_type": "markdown",
   "metadata": {},
   "source": [
    "## Least Square Fit (SKLearn)"
   ]
  },
  {
   "cell_type": "code",
   "execution_count": 6,
   "metadata": {},
   "outputs": [
    {
     "name": "stdout",
     "output_type": "stream",
     "text": [
      "Training error = 0.103\n",
      "Test error = 0.115\n"
     ]
    }
   ],
   "source": [
    "model = LinearRegression()\n",
    "model.fit(X,y)\n",
    "\n",
    "error_summary(model,'LSR',X,y,X_test,y_test,error_dict)"
   ]
  },
  {
   "cell_type": "markdown",
   "metadata": {},
   "source": [
    "## Least Square Fit (via Normal Equation)"
   ]
  },
  {
   "cell_type": "code",
   "execution_count": 7,
   "metadata": {},
   "outputs": [],
   "source": [
    "# Linear regression via Normal Equation\n",
    "class My_LSR():\n",
    "    \n",
    "    def fit(self,X,y):\n",
    "        N,_ = X.shape\n",
    "        X1 = np.hstack((np.ones((N,1)),X))\n",
    "\n",
    "        # Computing the optimal estimator\n",
    "        self.beta = nla.pinv(X1.T @ X1) @ X1.T @ y\n",
    "        \n",
    "    def predict(self,X):\n",
    "        N,_ = X.shape\n",
    "        X1 = np.hstack((np.ones((N,1)),X))\n",
    "        \n",
    "        return X1 @ self.beta"
   ]
  },
  {
   "cell_type": "code",
   "execution_count": 8,
   "metadata": {},
   "outputs": [
    {
     "name": "stdout",
     "output_type": "stream",
     "text": [
      "Training error = 0.103\n",
      "Test error = 0.115\n"
     ]
    }
   ],
   "source": [
    "model = My_LSR()\n",
    "model.fit(X,y)\n",
    "\n",
    "error_summary(model,'LSR_normal_eq',X,y,X_test,y_test,error_dict)"
   ]
  },
  {
   "cell_type": "markdown",
   "metadata": {},
   "source": [
    "## Ridge regression\n",
    "\n",
    "We use K-fold cross validation to select the optimal regularisation parameter"
   ]
  },
  {
   "cell_type": "code",
   "execution_count": 9,
   "metadata": {},
   "outputs": [
    {
     "data": {
      "image/png": "[encoded data removed]",
      "text/plain": [
       "<Figure size 432x288 with 1 Axes>"
      ]
     },
     "metadata": {
      "needs_background": "light"
     },
     "output_type": "display_data"
    }
   ],
   "source": [
    "K = 10\n",
    "\n",
    "# list of regularisation parameters\n",
    "reg_params = reg_range(-2,2)\n",
    "\n",
    "train_curve = []\n",
    "val_curve = []\n",
    "val_curve_SE = []\n",
    "\n",
    "for reg_param in reg_params:\n",
    "    train_error_cv = []\n",
    "    val_error_cv = []\n",
    "    \n",
    "    for X_train,y_train,X_val,y_val in Kfold_crossvalidation(X,y,K):\n",
    "        \n",
    "        N, _ = X_train.shape\n",
    "        model = Ridge(alpha=N*reg_param) # Multiply by N due to form of loss used in Ridge\n",
    "        model.fit(X_train,y_train)\n",
    "\n",
    "        # Training error\n",
    "        y_predict_train = model.predict(X_train)\n",
    "        train_error = MSE_error(y_train,y_predict_train)\n",
    "        train_error_cv.append(train_error)\n",
    "\n",
    "        # Validation error\n",
    "        y_predict_val = model.predict(X_val)\n",
    "        val_error = MSE_error(y_val,y_predict_val)\n",
    "        val_error_cv.append(val_error)\n",
    "        \n",
    "    train_curve.append(np.mean(train_error_cv))\n",
    "    val_curve.append(np.mean(val_error_cv))\n",
    "    val_curve_SE.append(np.std(val_error_cv)/np.sqrt(K))\n",
    "    \n",
    "plt.plot(reg_params,train_curve,label='training curve')\n",
    "plt.errorbar(reg_params,val_curve,yerr=val_curve_SE,label='validation curve')\n",
    "plt.xscale('log')\n",
    "plt.xlabel('regularization parameter')\n",
    "plt.ylabel('MSE loss')\n",
    "plt.legend()\n",
    "plt.grid()\n",
    "plt.show()"
   ]
  },
  {
   "cell_type": "markdown",
   "metadata": {},
   "source": [
    "Using one-std-error rule, we can select reg = .5 as regularization parameter.\n",
    "\n",
    "### Test error for ridge with optimal parameter"
   ]
  },
  {
   "cell_type": "code",
   "execution_count": 10,
   "metadata": {},
   "outputs": [
    {
     "name": "stdout",
     "output_type": "stream",
     "text": [
      "Training error = 0.107\n",
      "Test error = 0.118\n"
     ]
    }
   ],
   "source": [
    "opt_param = reg_params[5]\n",
    "CV_std_err = val_curve_SE[5]\n",
    "\n",
    "N,_ = X.shape\n",
    "\n",
    "model = Ridge(alpha=N*opt_param)\n",
    "model.fit(X,y)\n",
    "\n",
    "error_summary(model,'Ridge',X,y,X_test,y_test,error_dict,CV_std_err)"
   ]
  },
  {
   "cell_type": "markdown",
   "metadata": {},
   "source": [
    "## Lasso\n",
    "\n",
    "Again, let us first work out the value of the regularization parameter"
   ]
  },
  {
   "cell_type": "code",
   "execution_count": 11,
   "metadata": {},
   "outputs": [
    {
     "data": {
      "image/png": "[encoded data removed]",
      "text/plain": [
       "<Figure size 432x288 with 1 Axes>"
      ]
     },
     "metadata": {
      "needs_background": "light"
     },
     "output_type": "display_data"
    }
   ],
   "source": [
    "K = 10\n",
    "\n",
    "# list of regularisation parameters\n",
    "reg_params = reg_range(-4,-1)\n",
    "\n",
    "train_curve = []\n",
    "val_curve = []\n",
    "val_curve_SE = []\n",
    "\n",
    "for reg_param in reg_params:\n",
    "    train_error_cv = []\n",
    "    val_error_cv = []\n",
    "    \n",
    "    for X_train,y_train,X_val,y_val in Kfold_crossvalidation(X,y,K):\n",
    "        model = Lasso(alpha=reg_param,max_iter=int(1e5))\n",
    "        model.fit(X_train,y_train)\n",
    "\n",
    "        # Training error\n",
    "        y_predict_train = model.predict(X_train)\n",
    "        train_error = MSE_error(y_train,y_predict_train)\n",
    "        train_error_cv.append(train_error)\n",
    "\n",
    "        # Validation error\n",
    "        y_predict_val = model.predict(X_val)\n",
    "        val_error = MSE_error(y_val,y_predict_val)\n",
    "        val_error_cv.append(val_error)\n",
    "        \n",
    "    train_curve.append(np.mean(train_error_cv))\n",
    "    val_curve.append(np.mean(val_error_cv))\n",
    "    val_curve_SE.append(np.std(val_error_cv)/np.sqrt(K))\n",
    "    \n",
    "plt.plot(reg_params,train_curve,label='training curve')\n",
    "plt.errorbar(reg_params,val_curve,yerr=val_curve_SE,label='validation curve')\n",
    "plt.xscale('log')\n",
    "plt.xlabel('regularization parameter')\n",
    "plt.ylabel('MSE loss')\n",
    "plt.legend()\n",
    "plt.grid()\n",
    "plt.show()"
   ]
  },
  {
   "cell_type": "markdown",
   "metadata": {},
   "source": [
    "Using the one-std-error rule, we can go for reg = 0.02\n",
    "\n",
    "### Test error for Lasso with optimal parameter"
   ]
  },
  {
   "cell_type": "code",
   "execution_count": 12,
   "metadata": {},
   "outputs": [
    {
     "name": "stdout",
     "output_type": "stream",
     "text": [
      "Training error = 0.111\n",
      "Test error = 0.125\n"
     ]
    }
   ],
   "source": [
    "opt_param = reg_params[-2]\n",
    "CV_std_err = val_curve_SE[-2]\n",
    "\n",
    "model = Lasso(alpha=opt_param,max_iter=int(1e5))\n",
    "model.fit(X,y)\n",
    "\n",
    "error_summary(model,'Lasso',X,y,X_test,y_test,error_dict,CV_std_err)"
   ]
  },
  {
   "cell_type": "markdown",
   "metadata": {},
   "source": [
    "## Principal component regression"
   ]
  },
  {
   "cell_type": "code",
   "execution_count": 13,
   "metadata": {},
   "outputs": [],
   "source": [
    "# Principal component regression\n",
    "class My_PCR():\n",
    "    \n",
    "    def __init__(self,M):\n",
    "        self.M = M\n",
    "    \n",
    "    def fit(self,X,y):\n",
    "        _,_,Vt = nla.svd(X)\n",
    "        \n",
    "        self.V = Vt.T\n",
    "        Z = X @ self.V\n",
    "        self.theta = (Z.T @ y) / np.diag(Z.T @ Z)\n",
    "        \n",
    "        self.intercept = np.mean(y)\n",
    "        \n",
    "    def predict(self,X,M=None):\n",
    "        \n",
    "        if not M:\n",
    "            M = self.M\n",
    "        \n",
    "        # Take the first M components of the theta vector\n",
    "        VM = self.V[:,:M]\n",
    "        thetaM = self.theta[:M]\n",
    "        \n",
    "        # Compute the beta parameter\n",
    "        beta = thetaM @ VM.T\n",
    "        beta = np.insert(beta,0,self.intercept)\n",
    "        \n",
    "        # Predict the outcomes\n",
    "        N,_ = X.shape\n",
    "        X1 = np.hstack((np.ones((N,1)),X))\n",
    "        \n",
    "        return X1 @ beta"
   ]
  },
  {
   "cell_type": "markdown",
   "metadata": {},
   "source": [
    "Let us first work out the value of the regularization parameter M (number of component to keep)"
   ]
  },
  {
   "cell_type": "code",
   "execution_count": 14,
   "metadata": {},
   "outputs": [
    {
     "data": {
      "image/png": "[encoded data removed]",
      "text/plain": [
       "<Figure size 432x288 with 1 Axes>"
      ]
     },
     "metadata": {
      "needs_background": "light"
     },
     "output_type": "display_data"
    }
   ],
   "source": [
    "K = 10\n",
    "\n",
    "# list of components\n",
    "_,M = X.shape\n",
    "components = list(range(1,M+1))\n",
    "\n",
    "train_error_cv = []\n",
    "val_error_cv = []\n",
    "\n",
    "# For computational pourposes, we invert the for-loop here,\n",
    "for X_train,y_train,X_val,y_val in Kfold_crossvalidation(X,y,K):\n",
    "    \n",
    "    model = My_PCR(None)\n",
    "    model.fit(X_train,y_train)\n",
    "    \n",
    "    train_error_cmpt = []\n",
    "    val_error_cmpt = []\n",
    "\n",
    "    for m in components:\n",
    "\n",
    "        # Training error\n",
    "        y_predict_train = model.predict(X_train,m)\n",
    "        train_error = MSE_error(y_train,y_predict_train)\n",
    "        train_error_cmpt.append(train_error)\n",
    "\n",
    "        # Validation error\n",
    "        y_predict_val = model.predict(X_val,m)\n",
    "        val_error = MSE_error(y_val,y_predict_val)\n",
    "        val_error_cmpt.append(val_error)\n",
    "        \n",
    "    train_error_cv.append(train_error_cmpt)\n",
    "    val_error_cv.append(val_error_cmpt)\n",
    "    \n",
    "train_curve = np.mean(train_error_cv,axis=0)\n",
    "val_curve = np.mean(val_error_cv,axis=0)\n",
    "val_curve_SE = np.std(val_error_cv,axis=0)/np.sqrt(K)\n",
    "    \n",
    "plt.plot(components,train_curve,label='training curve')\n",
    "plt.errorbar(components,val_curve,yerr=val_curve_SE,label='validation curve')\n",
    "plt.xlabel('regularization parameter')\n",
    "plt.ylabel('MSE loss')\n",
    "plt.legend()\n",
    "plt.grid()\n",
    "plt.show()"
   ]
  },
  {
   "cell_type": "markdown",
   "metadata": {},
   "source": [
    "Using the one-standard-error rule, we can select approx 25-30 components."
   ]
  },
  {
   "cell_type": "code",
   "execution_count": 15,
   "metadata": {},
   "outputs": [
    {
     "name": "stdout",
     "output_type": "stream",
     "text": [
      "Training error = 0.110\n",
      "Test error = 0.122\n"
     ]
    }
   ],
   "source": [
    "opt_components = 25\n",
    "CV_std_err = val_curve_SE[24]\n",
    "\n",
    "model = My_PCR(M=opt_components)\n",
    "model.fit(X,y)\n",
    "\n",
    "error_summary(model,'PCR',X,y,X_test,y_test,error_dict,CV_std_err)"
   ]
  },
  {
   "cell_type": "markdown",
   "metadata": {},
   "source": [
    "## Partial Least Square regression"
   ]
  },
  {
   "cell_type": "code",
   "execution_count": 16,
   "metadata": {},
   "outputs": [],
   "source": [
    "# Partial least square algorithm\n",
    "class My_PLS():\n",
    "    \n",
    "    def __init__(self,M):\n",
    "        self.M = M\n",
    "    \n",
    "    def fit(self,X,y):\n",
    "        \n",
    "        N,p = X.shape\n",
    "\n",
    "        y_m = np.full(N,np.mean(y))\n",
    "        X_m = X.copy()\n",
    "\n",
    "        y_vect = []\n",
    "        for _ in range(p):\n",
    "            phi_m = X_m.T @ y\n",
    "            z_m = X_m @ phi_m\n",
    "            theta_m = (z_m.T @ y)/(z_m.T @ z_m)\n",
    "            y_m += theta_m * z_m\n",
    "            y_vect.append(y_m.copy())\n",
    "            coeff_m = (z_m.T @ X_m)/(z_m.T @ z_m)\n",
    "            X_m -= coeff_m * np.broadcast_to(z_m,(p,N)).T\n",
    "            \n",
    "        V = nla.pinv(X)\n",
    "        \n",
    "        self.beta_vect = []\n",
    "        for y_M in y_vect:\n",
    "            beta = V @ y_M\n",
    "            beta = np.insert(beta,0,np.mean(y))\n",
    "            self.beta_vect.append(beta)\n",
    "            \n",
    "    def predict(self,X,M=None):\n",
    "        \n",
    "        if not M:\n",
    "            M = self.M\n",
    "        \n",
    "        N,_ = X.shape\n",
    "        X1 = np.hstack((np.ones((N,1)),X))\n",
    "        \n",
    "        return X1 @ self.beta_vect[M-1]"
   ]
  },
  {
   "cell_type": "markdown",
   "metadata": {},
   "source": [
    "Let us first work out the value of the regularization parameter M (number of component to keep)"
   ]
  },
  {
   "cell_type": "code",
   "execution_count": 17,
   "metadata": {},
   "outputs": [
    {
     "data": {
      "image/png": "[encoded data removed]",
      "text/plain": [
       "<Figure size 432x288 with 1 Axes>"
      ]
     },
     "metadata": {
      "needs_background": "light"
     },
     "output_type": "display_data"
    }
   ],
   "source": [
    "K = 10\n",
    "\n",
    "# list of components\n",
    "M = 10\n",
    "components = list(range(1,M))\n",
    "\n",
    "train_error_cv = []\n",
    "val_error_cv = []\n",
    "\n",
    "# For computational pourposes, we invert the for-loop here,\n",
    "for X_train,y_train,X_val,y_val in Kfold_crossvalidation(X,y,K):\n",
    "    \n",
    "    model = My_PLS(None)\n",
    "    model.fit(X_train,y_train)\n",
    "    \n",
    "    train_error_cmpt = []\n",
    "    val_error_cmpt = []\n",
    "\n",
    "    for m in components:\n",
    "\n",
    "        # Training error\n",
    "        y_predict_train = model.predict(X_train,m)\n",
    "        train_error = MSE_error(y_train,y_predict_train)\n",
    "        train_error_cmpt.append(train_error)\n",
    "\n",
    "        # Validation error\n",
    "        y_predict_val = model.predict(X_val,m)\n",
    "        val_error = MSE_error(y_val,y_predict_val)\n",
    "        val_error_cmpt.append(val_error)\n",
    "        \n",
    "    train_error_cv.append(train_error_cmpt)\n",
    "    val_error_cv.append(val_error_cmpt)\n",
    "    \n",
    "train_curve = np.mean(train_error_cv,axis=0)\n",
    "val_curve = np.mean(val_error_cv,axis=0)\n",
    "val_curve_SE = np.std(val_error_cv,axis=0)/np.sqrt(K)\n",
    "    \n",
    "plt.plot(components,train_curve,label='training curve')\n",
    "plt.errorbar(components,val_curve,yerr=val_curve_SE,label='validation curve')\n",
    "plt.xlabel('regularization parameter')\n",
    "plt.ylabel('MSE loss')\n",
    "plt.legend()\n",
    "plt.grid()\n",
    "plt.show()"
   ]
  },
  {
   "cell_type": "markdown",
   "metadata": {},
   "source": [
    "Using the std-err-rule, we can take 2 components,"
   ]
  },
  {
   "cell_type": "code",
   "execution_count": 18,
   "metadata": {},
   "outputs": [
    {
     "name": "stdout",
     "output_type": "stream",
     "text": [
      "Training error = 0.110\n",
      "Test error = 0.127\n"
     ]
    }
   ],
   "source": [
    "opt_components = 2\n",
    "CV_std_err = val_curve_SE[1]\n",
    "\n",
    "model = My_PLS(M=opt_components)\n",
    "model.fit(X,y)\n",
    "\n",
    "error_summary(model,'PLS',X,y,X_test,y_test,error_dict,CV_std_err)"
   ]
  },
  {
   "cell_type": "markdown",
   "metadata": {},
   "source": [
    "### Results"
   ]
  },
  {
   "cell_type": "code",
   "execution_count": 21,
   "metadata": {},
   "outputs": [
    {
     "name": "stdout",
     "output_type": "stream",
     "text": [
      "LSR method gives test error = 0.115\n",
      "LSR_normal_eq method gives test error = 0.115\n",
      "Ridge method gives test error = 0.118\n",
      "CV standard error = 0.005\n",
      "Lasso method gives test error = 0.125\n",
      "CV standard error = 0.007\n",
      "PCR method gives test error = 0.122\n",
      "CV standard error = 0.004\n",
      "PLS method gives test error = 0.127\n",
      "CV standard error = 0.004\n"
     ]
    }
   ],
   "source": [
    "for key in error_dict.keys():\n",
    "    \n",
    "    print('{} method gives test error = {:.3f}'.format(key,error_dict[key][0]))\n",
    "    if error_dict[key][1] != -1:\n",
    "        print('CV standard error = {:.3f}'.format(error_dict[key][1]))"
   ]
  },
  {
   "cell_type": "code",
   "execution_count": null,
   "metadata": {},
   "outputs": [],
   "source": []
  }
 ],
 "metadata": {
  "kernelspec": {
   "display_name": "Python 3",
   "language": "python",
   "name": "python3"
  },
  "language_info": {
   "codemirror_mode": {
    "name": "ipython",
    "version": 3
   },
   "file_extension": ".py",
   "mimetype": "text/x-python",
   "name": "python",
   "nbconvert_exporter": "python",
   "pygments_lexer": "ipython3",
   "version": "3.7.9"
  }
 },
 "nbformat": 4,
 "nbformat_minor": 4
}

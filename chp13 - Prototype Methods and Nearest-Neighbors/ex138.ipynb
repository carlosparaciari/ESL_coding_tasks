{
 "cells": [
  {
   "cell_type": "code",
   "execution_count": 1,
   "metadata": {},
   "outputs": [],
   "source": [
    "import numpy as np\n",
    "import numpy.random as nrd\n",
    "import numpy.linalg as nla\n",
    "\n",
    "import matplotlib.pyplot as plt\n",
    "\n",
    "from sklearn.neighbors import KNeighborsClassifier\n",
    "from sklearn.neighbors import DistanceMetric"
   ]
  },
  {
   "cell_type": "markdown",
   "metadata": {},
   "source": [
    "# Exercise 13.8\n",
    "\n",
    "Generate data in two classes, with two features. These features\n",
    "are all independent Gaussian variates with standard deviation 1. Their\n",
    "mean vectors are (−1,−1) in class 1 and (1, 1) in class 2. To each feature\n",
    "vector apply a random rotation of angle θ, θ chosen uniformly from 0 to\n",
    "2π. Generate 50 observations from each class to form the training set, and\n",
    "500 in each class as the test set. Apply four different classifiers:\n",
    "\n",
    "1. Nearest-neighbors.\n",
    "2. Nearest-neighbors with hints: ten randomly rotated versions of each data point are added to the training set before applying nearest-neighbors.\n",
    "3. Invariant metric nearest-neighbors, using Euclidean distance invariant to rotations about the origin.\n",
    "4. Tangent distance nearest-neighbors.\n",
    "\n",
    "In each case choose the number of neighbors by tenfold cross-validation.\n",
    "Compare the results.\n",
    "\n",
    "# Solution\n",
    "\n",
    "Data generation,"
   ]
  },
  {
   "cell_type": "code",
   "execution_count": 2,
   "metadata": {},
   "outputs": [],
   "source": [
    "# generate data from independent gaussian dists at different mean for each class\n",
    "def data_generation(N,mu1,mu2,R):\n",
    "    \n",
    "    class1 = nrd.normal(loc=mu1, size=(N//2,p))\n",
    "    class2 = nrd.normal(loc=mu2, size=(N//2,p))\n",
    "    \n",
    "    # Input data (with random rotations)\n",
    "    X = np.concatenate((class1,class2))\n",
    "    for i in range(N):\n",
    "        theta = 2*np.pi*nrd.rand()\n",
    "        X[i] = R(theta) @ X[i]\n",
    "    \n",
    "    # Response\n",
    "    y = np.zeros(N)\n",
    "    y[N//2:] = 1\n",
    "    \n",
    "    return X,y"
   ]
  },
  {
   "cell_type": "code",
   "execution_count": 3,
   "metadata": {},
   "outputs": [],
   "source": [
    "p = 2\n",
    "N_train = 100\n",
    "N_test = 1000\n",
    "\n",
    "# Centres of Gaussian distribution\n",
    "mu1 = np.array([-1,-1])\n",
    "mu2 = np.array([1,1])\n",
    "\n",
    "# Rotation matrix\n",
    "R = lambda t : np.array([[np.cos(t),-np.sin(t)],[np.sin(t),np.cos(t)]])\n",
    "\n",
    "# Train and test sets\n",
    "X,y = data_generation(N_train,mu1,mu2,R)\n",
    "X_test,y_test = data_generation(N_test,mu1,mu2,R)"
   ]
  },
  {
   "cell_type": "markdown",
   "metadata": {},
   "source": [
    "Let's visualize the training set,"
   ]
  },
  {
   "cell_type": "code",
   "execution_count": 4,
   "metadata": {},
   "outputs": [
    {
     "data": {
      "image/png": "[encoded data removed]",
      "text/plain": [
       "<Figure size 432x288 with 1 Axes>"
      ]
     },
     "metadata": {
      "needs_background": "light"
     },
     "output_type": "display_data"
    }
   ],
   "source": [
    "plt.scatter(X[:N_train//2,0],X[:N_train//2,1],label='class 0')\n",
    "plt.scatter(X[N_train//2:,0],X[N_train//2:,1],label='class 1')\n",
    "plt.xlabel('X1')\n",
    "plt.xlabel('X2')\n",
    "plt.legend()\n",
    "plt.show()"
   ]
  },
  {
   "cell_type": "markdown",
   "metadata": {},
   "source": [
    "Since the mean vectors are at the same distance from the origin, th random rotation is messing up the dataset quite substantially."
   ]
  },
  {
   "cell_type": "markdown",
   "metadata": {},
   "source": [
    "## Classification\n",
    "\n",
    "Some useful functions for later,"
   ]
  },
  {
   "cell_type": "code",
   "execution_count": 5,
   "metadata": {},
   "outputs": [],
   "source": [
    "# returns cross-validaiton split\n",
    "def cross_validation_split(X,y,K):\n",
    "    N,_ = X.shape\n",
    "    delta = N//K\n",
    "    \n",
    "    data_CV = []\n",
    "    \n",
    "    for i in range(K):\n",
    "        \n",
    "        X_train = np.concatenate((X[:i*delta],X[(i+1)*delta:]))\n",
    "        y_train = np.concatenate((y[:i*delta],y[(i+1)*delta:]))\n",
    "        \n",
    "        X_val = X[i*delta:(i+1)*delta]\n",
    "        y_val = y[i*delta:(i+1)*delta]\n",
    "        \n",
    "        data_CV.append((X_train,y_train,X_val,y_val))\n",
    "        \n",
    "    return data_CV\n",
    "\n",
    "# Compute misclassification error and std_error\n",
    "def misclass_error(y,y_predict):\n",
    "    return np.mean(y != y_predict)\n",
    "\n",
    "# Add hints to dataset\n",
    "def generate_hints(X,y,hint_number=10):\n",
    "    \n",
    "    X_hint = []\n",
    "    y_hint = []\n",
    "    \n",
    "    for x,y in zip(X,y):\n",
    "        for _ in range(hint_number):\n",
    "            theta = 2*np.pi*nrd.rand()\n",
    "            X_hint.append(R(theta) @ x)\n",
    "            y_hint.append(y)\n",
    "            \n",
    "    return np.array(X_hint), np.array(y_hint)\n",
    "\n",
    "# Cross-validation for a given model wrt a list of parameters\n",
    "def cross_validation_plot(X,y,num_nn,classifier,dist='minkowski',K=10):\n",
    "\n",
    "    error_train = []\n",
    "    error_val = []\n",
    "    std_err_val = []\n",
    "\n",
    "    for num in num_nn:\n",
    "        misclass_error_train = []\n",
    "        misclass_error_val = []\n",
    "        for X_train,y_train,X_val,y_val in cross_validation_split(X,y,K):\n",
    "\n",
    "            # Train model\n",
    "            model = classifier(n_neighbors=num,metric=dist)\n",
    "            model.fit(X_train,y_train)\n",
    "\n",
    "            # Compute training error\n",
    "            y_predict_train = model.predict(X_train)\n",
    "            err_train = misclass_error(y_train,y_predict_train)\n",
    "            misclass_error_train.append(err_train)\n",
    "\n",
    "            # Compute validation error\n",
    "            y_predict_val = model.predict(X_val)\n",
    "            err_val = misclass_error(y_val,y_predict_val)\n",
    "            misclass_error_val.append(err_val)\n",
    "\n",
    "        error_train.append(np.mean(misclass_error_train))\n",
    "        error_val.append(np.mean(misclass_error_val))\n",
    "        std_err_val.append(np.std(misclass_error_val)/np.sqrt(K))\n",
    "\n",
    "    # Plot the cross-validaiton curve\n",
    "    plt.plot(num_nn,error_train,label='train error')\n",
    "    plt.errorbar(num_nn,error_val,yerr=std_err_val,label='val error')\n",
    "    plt.xlabel('number of neighbors')\n",
    "    plt.ylabel('misclass error')\n",
    "    plt.grid()\n",
    "    plt.legend()\n",
    "    plt.show()\n",
    "    \n",
    "# Radial distance\n",
    "def radial_distance(x1,x2):\n",
    "    return abs(nla.norm(x1) - nla.norm(x2))"
   ]
  },
  {
   "cell_type": "markdown",
   "metadata": {},
   "source": [
    "### Nearest-Neighbours\n",
    "\n",
    "Let's use cross-validation to estimate the best number of neighbours,"
   ]
  },
  {
   "cell_type": "code",
   "execution_count": 6,
   "metadata": {},
   "outputs": [
    {
     "data": {
      "image/png": "[encoded data removed]",
      "text/plain": [
       "<Figure size 432x288 with 1 Axes>"
      ]
     },
     "metadata": {
      "needs_background": "light"
     },
     "output_type": "display_data"
    }
   ],
   "source": [
    "# list of possible numbe of neigbours\n",
    "number_neigbours = list(range(1,60,4))\n",
    "\n",
    "# classifier\n",
    "classifier = KNeighborsClassifier\n",
    "\n",
    "cross_validation_plot(X,y,number_neigbours,classifier)"
   ]
  },
  {
   "cell_type": "markdown",
   "metadata": {},
   "source": [
    "Using one-std-err rule, we should go for 1 nn. Also, our model is doing worse that just randomly guess what the class is, but given how the dataset was design, I doubt we could get any better that 50/50!"
   ]
  },
  {
   "cell_type": "code",
   "execution_count": 7,
   "metadata": {},
   "outputs": [
    {
     "name": "stdout",
     "output_type": "stream",
     "text": [
      "1-NN classifier get test error = 0.503\n"
     ]
    }
   ],
   "source": [
    "num_opt = 1\n",
    "\n",
    "# Train model\n",
    "model = KNeighborsClassifier(n_neighbors=num_opt)\n",
    "model.fit(X,y)\n",
    "\n",
    "# Get test error\n",
    "y_predict = model.predict(X_test)\n",
    "err_test = misclass_error(y_test,y_predict)\n",
    "\n",
    "print('1-NN classifier get test error = {:.3f}'.format(err_test))"
   ]
  },
  {
   "cell_type": "markdown",
   "metadata": {},
   "source": [
    "### Nearest-neighbors with hints\n",
    "\n",
    "We generate ten randomly rotated versions of each data point and add them to the training set before applying nearest-neighbors."
   ]
  },
  {
   "cell_type": "code",
   "execution_count": 8,
   "metadata": {},
   "outputs": [
    {
     "data": {
      "image/png": "[encoded data removed]",
      "text/plain": [
       "<Figure size 432x288 with 1 Axes>"
      ]
     },
     "metadata": {
      "needs_background": "light"
     },
     "output_type": "display_data"
    }
   ],
   "source": [
    "# Dataset with hints\n",
    "X_hint, y_hint = generate_hints(X,y)\n",
    "\n",
    "# list of possible number of neigbours\n",
    "number_neigbours = list(range(1,60,4))\n",
    "\n",
    "# classifier\n",
    "classifier = KNeighborsClassifier\n",
    "\n",
    "cross_validation_plot(X_hint, y_hint,number_neigbours,classifier)"
   ]
  },
  {
   "cell_type": "markdown",
   "metadata": {},
   "source": [
    "Again, the one-std-error suggests 1-NN, and we already know the outcome on the test set."
   ]
  },
  {
   "cell_type": "markdown",
   "metadata": {},
   "source": [
    "### Nearest Neighbours with invariant metric\n",
    "\n",
    "The invariant metric is the euclidian one with respect to radial coordinates"
   ]
  },
  {
   "cell_type": "code",
   "execution_count": 9,
   "metadata": {},
   "outputs": [
    {
     "data": {
      "image/png": "[encoded data removed]",
      "text/plain": [
       "<Figure size 432x288 with 1 Axes>"
      ]
     },
     "metadata": {
      "needs_background": "light"
     },
     "output_type": "display_data"
    }
   ],
   "source": [
    "# list of possible numbe of neigbours\n",
    "number_neigbours = list(range(1,60,4))\n",
    "\n",
    "# classifier\n",
    "classifier = KNeighborsClassifier\n",
    "\n",
    "cross_validation_plot(X,y,number_neigbours,classifier,dist=radial_distance)"
   ]
  },
  {
   "cell_type": "markdown",
   "metadata": {},
   "source": [
    "The one-std-err rule again suggests to use 1-NN with the radial distance,"
   ]
  },
  {
   "cell_type": "code",
   "execution_count": 10,
   "metadata": {},
   "outputs": [
    {
     "name": "stdout",
     "output_type": "stream",
     "text": [
      "1-NN classifier get test error = 0.500\n"
     ]
    }
   ],
   "source": [
    "num_opt = 1\n",
    "\n",
    "# Train model\n",
    "model = KNeighborsClassifier(n_neighbors=num_opt,metric=radial_distance)\n",
    "model.fit(X,y)\n",
    "\n",
    "# Get test error\n",
    "y_predict = model.predict(X_test)\n",
    "err_test = misclass_error(y_test,y_predict)\n",
    "\n",
    "print('1-NN classifier get test error = {:.3f}'.format(err_test))"
   ]
  },
  {
   "cell_type": "markdown",
   "metadata": {},
   "source": [
    "### Tangent distance nearest-neighbors\n",
    "\n",
    "Not sure this is helpful here, since the space is 2 dimensional and almost all tangents will intercept, giving distance 0!"
   ]
  },
  {
   "cell_type": "code",
   "execution_count": null,
   "metadata": {},
   "outputs": [],
   "source": []
  }
 ],
 "metadata": {
  "kernelspec": {
   "display_name": "Python 3",
   "language": "python",
   "name": "python3"
  },
  "language_info": {
   "codemirror_mode": {
    "name": "ipython",
    "version": 3
   },
   "file_extension": ".py",
   "mimetype": "text/x-python",
   "name": "python",
   "nbconvert_exporter": "python",
   "pygments_lexer": "ipython3",
   "version": "3.7.9"
  }
 },
 "nbformat": 4,
 "nbformat_minor": 4
}
